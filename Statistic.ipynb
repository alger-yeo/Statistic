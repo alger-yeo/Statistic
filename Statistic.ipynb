{
 "cells": [
  {
   "cell_type": "markdown",
   "id": "4dac48ce",
   "metadata": {},
   "source": [
    "## Question 1: Is there a correlation between good performance in one module and another?\n",
    "\n",
    "## (20 Marks)\n",
    "\n",
    "## Hint: Perform suitable technique to deal with missing values. There are multiple ways to deal with missing values, provide reasonable explanation for the technique used. Pick a group of students and determine if there is a correlation between the results of two modules of your choice. How did the correlation compare across students from different academic groups?"
   ]
  },
  {
   "cell_type": "code",
   "execution_count": 1,
   "id": "0dc0ae6a",
   "metadata": {},
   "outputs": [],
   "source": [
    "import pandas as pd \n",
    "import numpy as np\n",
    "import matplotlib.pyplot as plt\n",
    "import seaborn as sns"
   ]
  },
  {
   "cell_type": "markdown",
   "id": "906bfa99",
   "metadata": {},
   "source": [
    "Appropriate packages were imported."
   ]
  },
  {
   "cell_type": "code",
   "execution_count": 2,
   "id": "cf69a8e6",
   "metadata": {},
   "outputs": [],
   "source": [
    "df = pd.read_csv('student-grades_0524.csv')"
   ]
  },
  {
   "cell_type": "markdown",
   "id": "920cf805",
   "metadata": {},
   "source": [
    "CSV file was read and assigned to the variable 'df'."
   ]
  },
  {
   "cell_type": "code",
   "execution_count": 3,
   "id": "3e8c7d46",
   "metadata": {},
   "outputs": [
    {
     "data": {
      "text/html": [
       "<div>\n",
       "<style scoped>\n",
       "    .dataframe tbody tr th:only-of-type {\n",
       "        vertical-align: middle;\n",
       "    }\n",
       "\n",
       "    .dataframe tbody tr th {\n",
       "        vertical-align: top;\n",
       "    }\n",
       "\n",
       "    .dataframe thead th {\n",
       "        text-align: right;\n",
       "    }\n",
       "</style>\n",
       "<table border=\"1\" class=\"dataframe\">\n",
       "  <thead>\n",
       "    <tr style=\"text-align: right;\">\n",
       "      <th></th>\n",
       "      <th>Student ID</th>\n",
       "      <th>Academic Group</th>\n",
       "      <th>CLASS</th>\n",
       "      <th>Chem.CA</th>\n",
       "      <th>Chem.TEST1</th>\n",
       "      <th>Chem.TEST2</th>\n",
       "      <th>Chem.TEST3</th>\n",
       "      <th>Chem.SemMark</th>\n",
       "      <th>Chem.SemGrade</th>\n",
       "      <th>Physics.CA1</th>\n",
       "      <th>...</th>\n",
       "      <th>Writing.ASG2</th>\n",
       "      <th>Writing.CA1</th>\n",
       "      <th>Writing.CA2</th>\n",
       "      <th>Writing.SemMark</th>\n",
       "      <th>Writing.SemGrade</th>\n",
       "      <th>Prog.CA1</th>\n",
       "      <th>Prog.CA2</th>\n",
       "      <th>Prog.ASG1</th>\n",
       "      <th>Prog.SemMark</th>\n",
       "      <th>Prog.Sem Grade</th>\n",
       "    </tr>\n",
       "  </thead>\n",
       "  <tbody>\n",
       "    <tr>\n",
       "      <th>0</th>\n",
       "      <td>1</td>\n",
       "      <td>GrpD</td>\n",
       "      <td>E</td>\n",
       "      <td>84</td>\n",
       "      <td>95</td>\n",
       "      <td>100</td>\n",
       "      <td>100</td>\n",
       "      <td>93</td>\n",
       "      <td>A+</td>\n",
       "      <td>83.2</td>\n",
       "      <td>...</td>\n",
       "      <td>75.5</td>\n",
       "      <td>86.0</td>\n",
       "      <td>70.0</td>\n",
       "      <td>78.0</td>\n",
       "      <td>B+</td>\n",
       "      <td>99.2</td>\n",
       "      <td>96.7</td>\n",
       "      <td>85.0</td>\n",
       "      <td>93.0</td>\n",
       "      <td>A+</td>\n",
       "    </tr>\n",
       "    <tr>\n",
       "      <th>1</th>\n",
       "      <td>2</td>\n",
       "      <td>GrpD</td>\n",
       "      <td>E</td>\n",
       "      <td>85</td>\n",
       "      <td>80</td>\n",
       "      <td>98</td>\n",
       "      <td>63</td>\n",
       "      <td>82</td>\n",
       "      <td>A</td>\n",
       "      <td>85.2</td>\n",
       "      <td>...</td>\n",
       "      <td>77.5</td>\n",
       "      <td>88.0</td>\n",
       "      <td>80.0</td>\n",
       "      <td>80.0</td>\n",
       "      <td>A</td>\n",
       "      <td>96.0</td>\n",
       "      <td>80.0</td>\n",
       "      <td>90.0</td>\n",
       "      <td>89.0</td>\n",
       "      <td>A+</td>\n",
       "    </tr>\n",
       "    <tr>\n",
       "      <th>2</th>\n",
       "      <td>3</td>\n",
       "      <td>GrpD</td>\n",
       "      <td>E</td>\n",
       "      <td>91</td>\n",
       "      <td>55</td>\n",
       "      <td>78</td>\n",
       "      <td>83</td>\n",
       "      <td>80</td>\n",
       "      <td>A</td>\n",
       "      <td>83.6</td>\n",
       "      <td>...</td>\n",
       "      <td>76.0</td>\n",
       "      <td>95.0</td>\n",
       "      <td>75.0</td>\n",
       "      <td>80.0</td>\n",
       "      <td>A</td>\n",
       "      <td>99.2</td>\n",
       "      <td>86.3</td>\n",
       "      <td>84.0</td>\n",
       "      <td>89.0</td>\n",
       "      <td>A+</td>\n",
       "    </tr>\n",
       "    <tr>\n",
       "      <th>3</th>\n",
       "      <td>4</td>\n",
       "      <td>GrpD</td>\n",
       "      <td>E</td>\n",
       "      <td>83</td>\n",
       "      <td>95</td>\n",
       "      <td>80</td>\n",
       "      <td>70</td>\n",
       "      <td>82</td>\n",
       "      <td>A</td>\n",
       "      <td>86.6</td>\n",
       "      <td>...</td>\n",
       "      <td>74.0</td>\n",
       "      <td>79.0</td>\n",
       "      <td>70.0</td>\n",
       "      <td>75.0</td>\n",
       "      <td>B+</td>\n",
       "      <td>92.5</td>\n",
       "      <td>84.7</td>\n",
       "      <td>72.0</td>\n",
       "      <td>82.0</td>\n",
       "      <td>A</td>\n",
       "    </tr>\n",
       "    <tr>\n",
       "      <th>4</th>\n",
       "      <td>5</td>\n",
       "      <td>GrpD</td>\n",
       "      <td>E</td>\n",
       "      <td>81</td>\n",
       "      <td>93</td>\n",
       "      <td>98</td>\n",
       "      <td>80</td>\n",
       "      <td>87</td>\n",
       "      <td>A+</td>\n",
       "      <td>80.5</td>\n",
       "      <td>...</td>\n",
       "      <td>73.0</td>\n",
       "      <td>100.0</td>\n",
       "      <td>85.0</td>\n",
       "      <td>78.0</td>\n",
       "      <td>B+</td>\n",
       "      <td>98.3</td>\n",
       "      <td>61.7</td>\n",
       "      <td>82.0</td>\n",
       "      <td>81.0</td>\n",
       "      <td>A</td>\n",
       "    </tr>\n",
       "  </tbody>\n",
       "</table>\n",
       "<p>5 rows × 25 columns</p>\n",
       "</div>"
      ],
      "text/plain": [
       "   Student ID Academic Group CLASS  Chem.CA  Chem.TEST1  Chem.TEST2  \\\n",
       "0           1           GrpD     E       84          95         100   \n",
       "1           2           GrpD     E       85          80          98   \n",
       "2           3           GrpD     E       91          55          78   \n",
       "3           4           GrpD     E       83          95          80   \n",
       "4           5           GrpD     E       81          93          98   \n",
       "\n",
       "   Chem.TEST3  Chem.SemMark Chem.SemGrade  Physics.CA1  ...  Writing.ASG2  \\\n",
       "0         100            93            A+         83.2  ...          75.5   \n",
       "1          63            82             A         85.2  ...          77.5   \n",
       "2          83            80             A         83.6  ...          76.0   \n",
       "3          70            82             A         86.6  ...          74.0   \n",
       "4          80            87            A+         80.5  ...          73.0   \n",
       "\n",
       "   Writing.CA1  Writing.CA2 Writing.SemMark  Writing.SemGrade  Prog.CA1  \\\n",
       "0         86.0         70.0            78.0                B+      99.2   \n",
       "1         88.0         80.0            80.0                 A      96.0   \n",
       "2         95.0         75.0            80.0                 A      99.2   \n",
       "3         79.0         70.0            75.0                B+      92.5   \n",
       "4        100.0         85.0            78.0                B+      98.3   \n",
       "\n",
       "   Prog.CA2  Prog.ASG1  Prog.SemMark Prog.Sem Grade  \n",
       "0      96.7       85.0          93.0             A+  \n",
       "1      80.0       90.0          89.0             A+  \n",
       "2      86.3       84.0          89.0             A+  \n",
       "3      84.7       72.0          82.0              A  \n",
       "4      61.7       82.0          81.0              A  \n",
       "\n",
       "[5 rows x 25 columns]"
      ]
     },
     "execution_count": 3,
     "metadata": {},
     "output_type": "execute_result"
    }
   ],
   "source": [
    "df.head()"
   ]
  },
  {
   "cell_type": "markdown",
   "id": "e6d189ce",
   "metadata": {},
   "source": [
    "The first 5 rows of a DataFrame were displayed as part of the data exploration."
   ]
  },
  {
   "cell_type": "code",
   "execution_count": 4,
   "id": "c5c28b2b",
   "metadata": {},
   "outputs": [
    {
     "data": {
      "text/plain": [
       "Index(['Student ID', 'Academic Group', 'CLASS', 'Chem.CA', 'Chem.TEST1',\n",
       "       'Chem.TEST2', 'Chem.TEST3', 'Chem.SemMark', 'Chem.SemGrade',\n",
       "       'Physics.CA1', 'Physics.CA2', 'Physics.ASG1', 'Physics.SemMark',\n",
       "       'Physics.SemGrade', 'Writing.ASG1', 'Writing.ASG2', 'Writing.CA1',\n",
       "       'Writing.CA2', 'Writing.SemMark', 'Writing.SemGrade', 'Prog.CA1',\n",
       "       'Prog.CA2', 'Prog.ASG1', 'Prog.SemMark', 'Prog.Sem Grade'],\n",
       "      dtype='object')"
      ]
     },
     "execution_count": 4,
     "metadata": {},
     "output_type": "execute_result"
    }
   ],
   "source": [
    "df.columns"
   ]
  },
  {
   "cell_type": "code",
   "execution_count": 5,
   "id": "2b35b9a3",
   "metadata": {},
   "outputs": [],
   "source": [
    "lst = df.columns.tolist()"
   ]
  },
  {
   "cell_type": "code",
   "execution_count": 6,
   "id": "d096d9b4",
   "metadata": {},
   "outputs": [
    {
     "name": "stdout",
     "output_type": "stream",
     "text": [
      "Student ID: 0\n",
      "Academic Group: 0\n",
      "CLASS: 0\n",
      "Chem.CA: 0\n",
      "Chem.TEST1: 0\n",
      "Chem.TEST2: 0\n",
      "Chem.TEST3: 0\n",
      "Chem.SemMark: 0\n",
      "Chem.SemGrade: 0\n",
      "Physics.CA1: 2\n",
      "Physics.CA2: 2\n",
      "Physics.ASG1: 2\n",
      "Physics.SemMark: 2\n",
      "Physics.SemGrade: 2\n",
      "Writing.ASG1: 3\n",
      "Writing.ASG2: 3\n",
      "Writing.CA1: 3\n",
      "Writing.CA2: 3\n",
      "Writing.SemMark: 3\n",
      "Writing.SemGrade: 3\n",
      "Prog.CA1: 3\n",
      "Prog.CA2: 3\n",
      "Prog.ASG1: 3\n",
      "Prog.SemMark: 3\n",
      "Prog.Sem Grade: 3\n"
     ]
    }
   ],
   "source": [
    "for i in lst:\n",
    "    print(f'{i}: {df[i].isnull().sum()}')"
   ]
  },
  {
   "cell_type": "markdown",
   "id": "1f5f8ef9",
   "metadata": {},
   "source": [
    "Columns retrieved from the dataframe were converted to a list and assigned to a variable to check for null value for each column."
   ]
  },
  {
   "cell_type": "code",
   "execution_count": 7,
   "id": "89078b70",
   "metadata": {},
   "outputs": [],
   "source": [
    "impute = df['Physics.SemMark'].median()\n",
    "\n",
    "df['Physics.SemMark'] = df['Physics.SemMark'].fillna(impute)"
   ]
  },
  {
   "cell_type": "code",
   "execution_count": 8,
   "id": "90902bb5",
   "metadata": {},
   "outputs": [],
   "source": [
    "# imputed before question 3 as variable assigned to boolean masking as the variables in the below cell are used \n",
    "\n",
    "impute = df['Prog.SemMark'].median()\n",
    "\n",
    "df['Prog.SemMark'] = df['Prog.SemMark'].fillna(impute)"
   ]
  },
  {
   "cell_type": "markdown",
   "id": "f0b50abb",
   "metadata": {},
   "source": [
    "Missing scores are imputed with median."
   ]
  },
  {
   "cell_type": "code",
   "execution_count": 9,
   "id": "3093f685",
   "metadata": {},
   "outputs": [],
   "source": [
    "df_A = df[df['Academic Group'] == 'GrpA']\n",
    "df_B = df[df['Academic Group'] == 'GrpB']\n",
    "df_C = df[df['Academic Group'] == 'GrpC']\n",
    "df_D = df[df['Academic Group'] == 'GrpD']\n",
    "df_E = df[df['Academic Group'] == 'GrpE']"
   ]
  },
  {
   "cell_type": "markdown",
   "id": "b9f73dfc",
   "metadata": {},
   "source": [
    "Boonlean masking performed to assign each group to its respective variable."
   ]
  },
  {
   "cell_type": "code",
   "execution_count": 10,
   "id": "8ae94291",
   "metadata": {},
   "outputs": [
    {
     "data": {
      "text/plain": [
       "0.5217554302402666"
      ]
     },
     "execution_count": 10,
     "metadata": {},
     "output_type": "execute_result"
    }
   ],
   "source": [
    "df_A['Chem.SemMark'].cov(df_A['Physics.SemMark'])/ (df_A['Chem.SemMark'].std() * df_A['Physics.SemMark'].std())\n"
   ]
  },
  {
   "cell_type": "markdown",
   "id": "f2f85a86",
   "metadata": {},
   "source": [
    "There is a strong postive correlation for Group A between the two chosen modules.\n"
   ]
  },
  {
   "cell_type": "code",
   "execution_count": 11,
   "id": "24e62669",
   "metadata": {},
   "outputs": [
    {
     "data": {
      "text/plain": [
       "0.5402808033429849"
      ]
     },
     "execution_count": 11,
     "metadata": {},
     "output_type": "execute_result"
    }
   ],
   "source": [
    "df_B['Chem.SemMark'].cov(df_B['Physics.SemMark'])/ (df_B['Chem.SemMark'].std() * df_B['Physics.SemMark'].std())"
   ]
  },
  {
   "cell_type": "markdown",
   "id": "b7c9408c",
   "metadata": {},
   "source": [
    "There is a strong postive correlation for Group B between the two chosen modules.\n"
   ]
  },
  {
   "cell_type": "code",
   "execution_count": 12,
   "id": "f7bf38f8",
   "metadata": {},
   "outputs": [
    {
     "data": {
      "text/plain": [
       "0.4972712939148708"
      ]
     },
     "execution_count": 12,
     "metadata": {},
     "output_type": "execute_result"
    }
   ],
   "source": [
    "df_C['Chem.SemMark'].cov(df_C['Physics.SemMark'])/ (df_C['Chem.SemMark'].std() * df_C['Physics.SemMark'].std())"
   ]
  },
  {
   "cell_type": "markdown",
   "id": "935b1518",
   "metadata": {},
   "source": [
    "There is postive correlation with moderate strength for Group C."
   ]
  },
  {
   "cell_type": "code",
   "execution_count": 13,
   "id": "b8d6a866",
   "metadata": {},
   "outputs": [
    {
     "data": {
      "text/plain": [
       "0.3873396671486028"
      ]
     },
     "execution_count": 13,
     "metadata": {},
     "output_type": "execute_result"
    }
   ],
   "source": [
    "df_D['Chem.SemMark'].cov(df_D['Physics.SemMark'])/ (df_D['Chem.SemMark'].std() * df_D['Physics.SemMark'].std())"
   ]
  },
  {
   "cell_type": "markdown",
   "id": "d9d8118d",
   "metadata": {},
   "source": [
    "There is postive correlation with moderate strength for Group D."
   ]
  },
  {
   "cell_type": "code",
   "execution_count": 14,
   "id": "b0be6912",
   "metadata": {},
   "outputs": [
    {
     "data": {
      "text/plain": [
       "0.34187790997372336"
      ]
     },
     "execution_count": 14,
     "metadata": {},
     "output_type": "execute_result"
    }
   ],
   "source": [
    "df_E['Chem.SemMark'].cov(df_E['Physics.SemMark'])/ (df_E['Chem.SemMark'].std() * df_E['Physics.SemMark'].std())"
   ]
  },
  {
   "cell_type": "markdown",
   "id": "f5253d60",
   "metadata": {},
   "source": [
    "There is postive correlation with moderate strength for Group E."
   ]
  },
  {
   "cell_type": "code",
   "execution_count": 15,
   "id": "0a535400",
   "metadata": {},
   "outputs": [
    {
     "data": {
      "image/png": "[encoded data removed]",
      "text/plain": [
       "<Figure size 640x480 with 1 Axes>"
      ]
     },
     "metadata": {},
     "output_type": "display_data"
    },
    {
     "data": {
      "image/png": "[encoded data removed]",
      "text/plain": [
       "<Figure size 640x480 with 1 Axes>"
      ]
     },
     "metadata": {},
     "output_type": "display_data"
    },
    {
     "data": {
      "image/png": "[encoded data removed]",
      "text/plain": [
       "<Figure size 640x480 with 1 Axes>"
      ]
     },
     "metadata": {},
     "output_type": "display_data"
    },
    {
     "data": {
      "image/png": "[encoded data removed]",
      "text/plain": [
       "<Figure size 640x480 with 1 Axes>"
      ]
     },
     "metadata": {},
     "output_type": "display_data"
    },
    {
     "data": {
      "image/png": "[encoded data removed]",
      "text/plain": [
       "<Figure size 640x480 with 1 Axes>"
      ]
     },
     "metadata": {},
     "output_type": "display_data"
    }
   ],
   "source": [
    "for df_plot in [df_A, df_B, df_C, df_D, df_E]:\n",
    "    sns.regplot( x = df_plot['Chem.SemMark'], y= df_plot['Physics.SemMark'], ci=None)\n",
    "    plt.show()"
   ]
  },
  {
   "cell_type": "markdown",
   "id": "4e95c2a0",
   "metadata": {},
   "source": [
    "Based on the scatter-plot, there is a positive correlation between Chem.SemMark and Physics.SemMark for all Groups."
   ]
  },
  {
   "cell_type": "markdown",
   "id": "d28e50e0",
   "metadata": {},
   "source": [
    "## Question 2: Is the distribution of marks similar across academic groups? Is there a particular academic group that fared better?\n",
    "\n",
    "## (15 Marks)\n",
    "\n",
    "## Hint: Pick one module to compare across different academic groups. Comment on the central tendency and dispersion, and distribution across different groups taking the same module."
   ]
  },
  {
   "cell_type": "code",
   "execution_count": 16,
   "id": "74653278",
   "metadata": {},
   "outputs": [
    {
     "name": "stdout",
     "output_type": "stream",
     "text": [
      "Population mean is 82.82 and variance 170.19\n"
     ]
    },
    {
     "data": {
      "image/png": "[encoded data removed]",
      "text/plain": [
       "<Figure size 640x480 with 1 Axes>"
      ]
     },
     "metadata": {},
     "output_type": "display_data"
    },
    {
     "name": "stdout",
     "output_type": "stream",
     "text": [
      "Population mean is 79.94 and variance 143.27\n"
     ]
    },
    {
     "data": {
      "image/png": "[encoded data removed]",
      "text/plain": [
       "<Figure size 640x480 with 1 Axes>"
      ]
     },
     "metadata": {},
     "output_type": "display_data"
    },
    {
     "name": "stdout",
     "output_type": "stream",
     "text": [
      "Population mean is 78.62 and variance 198.19\n"
     ]
    },
    {
     "data": {
      "image/png": "[encoded data removed]",
      "text/plain": [
       "<Figure size 640x480 with 1 Axes>"
      ]
     },
     "metadata": {},
     "output_type": "display_data"
    },
    {
     "name": "stdout",
     "output_type": "stream",
     "text": [
      "Population mean is 76.92 and variance 153.95\n"
     ]
    },
    {
     "data": {
      "image/png": "[encoded data removed]",
      "text/plain": [
       "<Figure size 640x480 with 1 Axes>"
      ]
     },
     "metadata": {},
     "output_type": "display_data"
    },
    {
     "name": "stdout",
     "output_type": "stream",
     "text": [
      "Population mean is 71.62 and variance 213.87\n"
     ]
    },
    {
     "data": {
      "image/png": "[encoded data removed]",
      "text/plain": [
       "<Figure size 640x480 with 1 Axes>"
      ]
     },
     "metadata": {},
     "output_type": "display_data"
    }
   ],
   "source": [
    "for df_plot in [df_A, df_B, df_C, df_D, df_E]:\n",
    "    plt.title \n",
    "    plt.hist(df_plot['Chem.SemMark'])\n",
    "    print(f\"Population mean is {df_plot['Chem.SemMark'].mean():.2f} and variance {df_plot['Chem.SemMark'].var():.2f}\")\n",
    "    plt.show()\n"
   ]
  },
  {
   "cell_type": "markdown",
   "id": "127b7b38",
   "metadata": {},
   "source": [
    "Based on the visualisation, Group A has the highest mean score as compapared to the other groups for Chemistry. However, Group B has the lowest variance which indicates a more consistent score. All groups have a negatively skewed distribution which means that most of the score are on the higher spectrum. "
   ]
  },
  {
   "cell_type": "markdown",
   "id": "b16bf859",
   "metadata": {},
   "source": [
    "## Question 3: Students from GrpA consistently perform better. Is that a fair statement? Use hypothesis testing to prove or disprove this statement.\n",
    "## (15 Marks)\n",
    "## Hint: Set a suitable significance level and use an appropriate hypothesis test to compare GrpA students results to the rest of the students."
   ]
  },
  {
   "cell_type": "markdown",
   "id": "aaff2822",
   "metadata": {},
   "source": [
    "# Group A vs Group B\n",
    "<br>\n",
    "$ H_0: {\\mu_A - \\mu_B = 0}$ \n",
    "<br>\n",
    "$ H_1:{\\mu_A - \\mu_B > 0} $\n",
    "<br>\n",
    "  "
   ]
  },
  {
   "cell_type": "markdown",
   "id": "0d1225bc",
   "metadata": {},
   "source": [
    "# Group A vs Group C\n",
    "\n",
    "<br>\n",
    "$ H_0: {\\mu_A - \\mu_C = 0}$ \n",
    "<br>\n",
    "$ H_1:{\\mu_A - \\mu_C > 0} $\n",
    "<br>\n",
    "  "
   ]
  },
  {
   "cell_type": "markdown",
   "id": "460db6de",
   "metadata": {},
   "source": [
    "# Group A vs Group D\n",
    "\n",
    "<br>\n",
    "$ H_0: {\\mu_A - \\mu_D = 0}$ \n",
    "<br>\n",
    "$ H_1:{\\mu_A - \\mu_D >0} $\n",
    "<br>\n",
    "  "
   ]
  },
  {
   "cell_type": "markdown",
   "id": "240ba07b",
   "metadata": {},
   "source": [
    "# Group A vs Group E\n",
    "\n",
    "<br>\n",
    "$ H_0: {\\mu_A - \\mu_E = 0}$ \n",
    "<br>\n",
    "$ H_1:{\\mu_A - \\mu_E > 0} $\n",
    "<br>\n",
    "  "
   ]
  },
  {
   "cell_type": "markdown",
   "id": "5f0418f0",
   "metadata": {},
   "source": [
    "### Specify one-tail or two-tail test\n",
    "- Carry out a one tail test \n",
    "### Level of significance and Critical value\n",
    "<br>\n",
    "\n",
    "- Level of significance: $\\alpha = 0.05$\n",
    "- This means that there is 5% chance that we will reject a null hypothesis wrongly (Type 1 error or false positive)\n",
    "- To put it in another way, there is a 5% chance that we will label Group A as better when it actually not"
   ]
  },
  {
   "cell_type": "markdown",
   "id": "318ac382",
   "metadata": {},
   "source": [
    "## Critical value for a t-test between Group A and B"
   ]
  },
  {
   "cell_type": "code",
   "execution_count": 17,
   "id": "925623a1",
   "metadata": {},
   "outputs": [
    {
     "data": {
      "text/plain": [
       "(51, 25)"
      ]
     },
     "execution_count": 17,
     "metadata": {},
     "output_type": "execute_result"
    }
   ],
   "source": [
    "df_A.shape"
   ]
  },
  {
   "cell_type": "code",
   "execution_count": 18,
   "id": "60ea324f",
   "metadata": {},
   "outputs": [
    {
     "data": {
      "text/plain": [
       "(49, 25)"
      ]
     },
     "execution_count": 18,
     "metadata": {},
     "output_type": "execute_result"
    }
   ],
   "source": [
    "df_B.shape"
   ]
  },
  {
   "cell_type": "code",
   "execution_count": 19,
   "id": "2523c69a",
   "metadata": {},
   "outputs": [
    {
     "name": "stdout",
     "output_type": "stream",
     "text": [
      "1.6605512170440568\n"
     ]
    }
   ],
   "source": [
    "sig_level = 0.05\n",
    "\n",
    "# Critical value\n",
    "from scipy import stats\n",
    "critical_value = stats.t.ppf(1-0.05, 98) # df = 51+49-2\n",
    "print(critical_value)"
   ]
  },
  {
   "cell_type": "markdown",
   "id": "ff5268e8",
   "metadata": {},
   "source": [
    "## Critical value for a t-test between Group A and C"
   ]
  },
  {
   "cell_type": "code",
   "execution_count": 20,
   "id": "9c737aa2",
   "metadata": {},
   "outputs": [
    {
     "data": {
      "text/plain": [
       "(84, 25)"
      ]
     },
     "execution_count": 20,
     "metadata": {},
     "output_type": "execute_result"
    }
   ],
   "source": [
    "df_C.shape"
   ]
  },
  {
   "cell_type": "code",
   "execution_count": 21,
   "id": "9ff7b9f7",
   "metadata": {},
   "outputs": [
    {
     "name": "stdout",
     "output_type": "stream",
     "text": [
      "1.6563912444045108\n"
     ]
    }
   ],
   "source": [
    "sig_level = 0.05\n",
    "\n",
    "# Critical value\n",
    "from scipy import stats\n",
    "critical_value = stats.t.ppf(1-0.05, 133) # df = 51+84-2\n",
    "print(critical_value)"
   ]
  },
  {
   "cell_type": "markdown",
   "id": "b714f084",
   "metadata": {},
   "source": [
    "## Critical value for a t-test between between Group A and D"
   ]
  },
  {
   "cell_type": "code",
   "execution_count": 22,
   "id": "b5e36fde",
   "metadata": {},
   "outputs": [
    {
     "data": {
      "text/plain": [
       "(101, 25)"
      ]
     },
     "execution_count": 22,
     "metadata": {},
     "output_type": "execute_result"
    }
   ],
   "source": [
    "df_D.shape"
   ]
  },
  {
   "cell_type": "code",
   "execution_count": 23,
   "id": "2796dc7d",
   "metadata": {},
   "outputs": [
    {
     "name": "stdout",
     "output_type": "stream",
     "text": [
      "1.6550755001846063\n"
     ]
    }
   ],
   "source": [
    "sig_level = 0.05\n",
    "\n",
    "# Critical value\n",
    "from scipy import stats\n",
    "critical_value = stats.t.ppf(1-0.05, 150) # df = 51+101-2\n",
    "print(critical_value)"
   ]
  },
  {
   "cell_type": "markdown",
   "id": "a80006a6",
   "metadata": {},
   "source": [
    "## Critical value for a t-test between between Group A and E"
   ]
  },
  {
   "cell_type": "code",
   "execution_count": 24,
   "id": "50a78ad1",
   "metadata": {},
   "outputs": [
    {
     "data": {
      "text/plain": [
       "(50, 25)"
      ]
     },
     "execution_count": 24,
     "metadata": {},
     "output_type": "execute_result"
    }
   ],
   "source": [
    "df_E.shape"
   ]
  },
  {
   "cell_type": "code",
   "execution_count": 25,
   "id": "f162c7df",
   "metadata": {},
   "outputs": [
    {
     "name": "stdout",
     "output_type": "stream",
     "text": [
      "1.6603911559963895\n"
     ]
    }
   ],
   "source": [
    "sig_level = 0.05\n",
    "\n",
    "# Critical value\n",
    "from scipy import stats\n",
    "critical_value = stats.t.ppf(1-0.05, 99) # df = 51+50-2\n",
    "print(critical_value)"
   ]
  },
  {
   "cell_type": "markdown",
   "id": "51cd3e1c",
   "metadata": {},
   "source": [
    "## t-value and p-value for a t-test between between Group A and B"
   ]
  },
  {
   "cell_type": "code",
   "execution_count": 26,
   "id": "51f9f12e",
   "metadata": {},
   "outputs": [
    {
     "name": "stdout",
     "output_type": "stream",
     "text": [
      "t-stat: 2.437926698542473\n",
      "p-value: 0.016573281498708285\n"
     ]
    }
   ],
   "source": [
    "t_stat1, p_value1 = stats.ttest_ind(df_A['Prog.SemMark'], df_B['Prog.SemMark'])\n",
    "print(f\"t-stat: {t_stat1}\")\n",
    "print(f\"p-value: {p_value1}\")"
   ]
  },
  {
   "cell_type": "markdown",
   "id": "64fcd3f5",
   "metadata": {},
   "source": [
    "## t-value and p-value for a t-test between between Group A and C"
   ]
  },
  {
   "cell_type": "code",
   "execution_count": 27,
   "id": "3568984c",
   "metadata": {},
   "outputs": [
    {
     "name": "stdout",
     "output_type": "stream",
     "text": [
      "t-stat: 2.044518754372388\n",
      "p-value: 0.04287533639984689\n"
     ]
    }
   ],
   "source": [
    "t_stat2, p_value2 = stats.ttest_ind(df_A['Prog.SemMark'], df_C['Prog.SemMark'])\n",
    "print(f\"t-stat: {t_stat2}\")\n",
    "print(f\"p-value: {p_value2}\")"
   ]
  },
  {
   "cell_type": "markdown",
   "id": "945134e9",
   "metadata": {},
   "source": [
    "## t-value and p-value for a t-test between between Group A and D"
   ]
  },
  {
   "cell_type": "code",
   "execution_count": 28,
   "id": "271f0aab",
   "metadata": {},
   "outputs": [
    {
     "name": "stdout",
     "output_type": "stream",
     "text": [
      "t-stat: 3.2217268829740786\n",
      "p-value: 0.0015628972902885048\n"
     ]
    }
   ],
   "source": [
    "t_stat3, p_value3 = stats.ttest_ind(df_A['Prog.SemMark'], df_D['Prog.SemMark'])\n",
    "print(f\"t-stat: {t_stat3}\")\n",
    "print(f\"p-value: {p_value3}\")"
   ]
  },
  {
   "cell_type": "markdown",
   "id": "fafa55c0",
   "metadata": {},
   "source": [
    "## t-value and p-value for a t-test between between Group A and E"
   ]
  },
  {
   "cell_type": "code",
   "execution_count": 29,
   "id": "d1864639",
   "metadata": {},
   "outputs": [
    {
     "name": "stdout",
     "output_type": "stream",
     "text": [
      "t-stat: 4.412767156767782\n",
      "p-value: 2.6021647948309133e-05\n"
     ]
    }
   ],
   "source": [
    "t_stat4, p_value4 = stats.ttest_ind(df_A['Prog.SemMark'], df_E['Prog.SemMark'])\n",
    "print(f\"t-stat: {t_stat4}\")\n",
    "print(f\"p-value: {p_value4}\")"
   ]
  },
  {
   "cell_type": "markdown",
   "id": "85b1bd34",
   "metadata": {},
   "source": [
    "## t-test result between between Group A and B"
   ]
  },
  {
   "cell_type": "code",
   "execution_count": 30,
   "id": "8075321c",
   "metadata": {},
   "outputs": [
    {
     "name": "stdout",
     "output_type": "stream",
     "text": [
      "Reject null hypothesis, Students from Group A consistently perform better than Group B.\n"
     ]
    }
   ],
   "source": [
    "if p_value1 < sig_level:\n",
    "    print(\"Reject null hypothesis, Students from Group A consistently perform better than Group B.\")\n",
    "else:\n",
    "    print(\"Accept null hypothesis, that there is no difference in performance between Group A and Group B.\")"
   ]
  },
  {
   "cell_type": "markdown",
   "id": "f0fdc186",
   "metadata": {},
   "source": [
    "## t-test result between between Group A and C"
   ]
  },
  {
   "cell_type": "code",
   "execution_count": 31,
   "id": "1c208ba2",
   "metadata": {},
   "outputs": [
    {
     "name": "stdout",
     "output_type": "stream",
     "text": [
      "Reject null hypothesis, Students from Group A consistently perform better than Group C.\n"
     ]
    }
   ],
   "source": [
    "if p_value2 < sig_level:\n",
    "    print(\"Reject null hypothesis, Students from Group A consistently perform better than Group C.\")\n",
    "else:\n",
    "    print(\"Accept null hypothesis, that there is no difference in performance between Group A and Group C.\")"
   ]
  },
  {
   "cell_type": "markdown",
   "id": "76f4a4ff",
   "metadata": {},
   "source": [
    "## t-test result between between Group A and D"
   ]
  },
  {
   "cell_type": "code",
   "execution_count": 32,
   "id": "9490f374",
   "metadata": {},
   "outputs": [
    {
     "name": "stdout",
     "output_type": "stream",
     "text": [
      "Reject null hypothesis, Students from Group A consistently perform better than Group D.\n"
     ]
    }
   ],
   "source": [
    "if p_value3 < sig_level:\n",
    "    print(\"Reject null hypothesis, Students from Group A consistently perform better than Group D.\")\n",
    "else:\n",
    "    print(\"Accept null hypothesis, that there is no difference in performance between Group A and Group D.\")"
   ]
  },
  {
   "cell_type": "markdown",
   "id": "1272df7f",
   "metadata": {},
   "source": [
    "## t-test result between between Group A and E"
   ]
  },
  {
   "cell_type": "code",
   "execution_count": 33,
   "id": "5175d299",
   "metadata": {},
   "outputs": [
    {
     "name": "stdout",
     "output_type": "stream",
     "text": [
      "Reject null hypothesis, Students from Group A consistently perform better than Group E.\n"
     ]
    }
   ],
   "source": [
    "if p_value4 < sig_level:\n",
    "    print(\"Reject null hypothesis, Students from Group A consistently perform better than Group E.\")\n",
    "else:\n",
    "    print(\"Accept null hypothesis, that there is no difference in performance between Group A and Group E.\")"
   ]
  },
  {
   "cell_type": "markdown",
   "id": "26fa7ca9",
   "metadata": {},
   "source": [
    "## Question 4: Is the distribution of grades independent of the academic groups?\n",
    "## (15 Marks)\n",
    "## Hint: Use a suitable chi-square test to examine if grade distribution is indeed independent of the academic groups the student is in."
   ]
  },
  {
   "cell_type": "markdown",
   "id": "64ec67a7",
   "metadata": {},
   "source": [
    "<br>\n",
    "$ H_0: \\text{The distribution of grades is independent of the academic groups}$\n",
    "<br>\n",
    "$ H_1: \\text{The distribution of grades is dependent of the academic groups} $\n"
   ]
  },
  {
   "cell_type": "code",
   "execution_count": 34,
   "id": "57b99d6e",
   "metadata": {},
   "outputs": [
    {
     "name": "stdout",
     "output_type": "stream",
     "text": [
      "Prog.Sem Grade   A  A+  AD   B  B+  C  C+  D  D+  F\n",
      "Academic Group                                     \n",
      "GrpA             8  19   7   6   4  0   4  2   0  1\n",
      "GrpB             7  13   2  11   4  0   6  3   0  2\n",
      "GrpC            13  24   4   8  14  1   8  2   6  2\n",
      "GrpD            16  27   3   8  15  9   7  2   5  9\n",
      "GrpE             5   9   1   4   8  7   5  3   3  5\n"
     ]
    }
   ],
   "source": [
    "xtab = pd.crosstab(df['Academic Group'], df['Prog.Sem Grade'])\n",
    "print(xtab)"
   ]
  },
  {
   "cell_type": "markdown",
   "id": "b58730cc",
   "metadata": {},
   "source": [
    "Contigency table was generated to prepare the comparision of grades of each group using chi-square test."
   ]
  },
  {
   "cell_type": "code",
   "execution_count": 35,
   "id": "3c9b48b9",
   "metadata": {},
   "outputs": [],
   "source": [
    "sig_level = 0.01"
   ]
  },
  {
   "cell_type": "markdown",
   "id": "04cde990",
   "metadata": {},
   "source": [
    "Level of significance was set at 0.01."
   ]
  },
  {
   "cell_type": "code",
   "execution_count": 36,
   "id": "60eaa0b1",
   "metadata": {},
   "outputs": [
    {
     "name": "stdout",
     "output_type": "stream",
     "text": [
      "chisq stat: 59.65474325596071 \n",
      "p-value: 0.007879155497535352 \n",
      "Degrees of freedom: 36 \n",
      "Expected_counts:\n",
      " [[ 7.52710843 14.13253012  2.61144578  5.68373494  6.9126506   2.61144578\n",
      "   4.60843373  1.84337349  2.15060241  2.9186747 ]\n",
      " [ 7.08433735 13.30120482  2.45783133  5.34939759  6.5060241   2.45783133\n",
      "   4.3373494   1.73493976  2.02409639  2.74698795]\n",
      " [12.10240964 22.72289157  4.19879518  9.13855422 11.11445783  4.19879518\n",
      "   7.40963855  2.96385542  3.45783133  4.69277108]\n",
      " [14.90662651 27.98795181  5.17168675 11.2560241  13.68975904  5.17168675\n",
      "   9.12650602  3.65060241  4.25903614  5.78012048]\n",
      " [ 7.37951807 13.85542169  2.56024096  5.57228916  6.77710843  2.56024096\n",
      "   4.51807229  1.80722892  2.10843373  2.86144578]]\n"
     ]
    }
   ],
   "source": [
    "from scipy import stats\n",
    "# Call the chisquare test and pass in the appropriate parameters.\n",
    "# Note: If degrees of freedom is 1, Yates' correction is applied by default. We manually set it to False. \n",
    "# code here: \n",
    "\n",
    "from scipy import stats\n",
    "chi2, pval, dof, expected_obs = stats.chi2_contingency(xtab, correction = False) \n",
    "# If degrees of freedom is 1, apply Yates' correction\n",
    "# for continuity applied by default. We manually set it to False.\n",
    " \n",
    "print(f\"chisq stat: {chi2} \\np-value: {pval} \\nDegrees of freedom: {dof} \\nExpected_counts:\\n {expected_obs}\")"
   ]
  },
  {
   "cell_type": "markdown",
   "id": "d6c9fbc7",
   "metadata": {},
   "source": [
    "## Chi-square Result"
   ]
  },
  {
   "cell_type": "code",
   "execution_count": 37,
   "id": "531866a7",
   "metadata": {},
   "outputs": [
    {
     "name": "stdout",
     "output_type": "stream",
     "text": [
      "Reject null hypothesis. The distribution of grades is independent of the academic groups.\n"
     ]
    }
   ],
   "source": [
    "if pval < sig_level:\n",
    "    print(\"Reject null hypothesis. The distribution of grades is independent of the academic groups.\")\n",
    "else: \n",
    "    print(\"Accept null hypothesis. The distribution of grades is dependent of the academic groups.\")"
   ]
  },
  {
   "cell_type": "markdown",
   "id": "f63fcfdb",
   "metadata": {},
   "source": [
    "## Question 5: What is the breakdown of each component to the final SemMark? For example, CA, Test 1, Test 2 and Test 3 contribute 40%, 20%, 20% and 20% respectively to the final semester mark for Chem (Chem.SemMark).\n",
    "## (15 Marks)\n",
    "\n",
    "## Hint: Pick one module and using linear regression, find the contribution of each component toward the final Semester mark. Explain using the statsmodel summary table to support your findings."
   ]
  },
  {
   "cell_type": "code",
   "execution_count": 38,
   "id": "19636bdc",
   "metadata": {},
   "outputs": [
    {
     "data": {
      "text/plain": [
       "array([[  1.,  84.,  95., 100., 100.],\n",
       "       [  1.,  85.,  80.,  98.,  63.],\n",
       "       [  1.,  91.,  55.,  78.,  83.],\n",
       "       ...,\n",
       "       [  1.,  66.,  83.,  54.,  65.],\n",
       "       [  1.,  69.,  48.,  55.,  35.],\n",
       "       [  1.,  83.,  70.,  70.,  73.]])"
      ]
     },
     "execution_count": 38,
     "metadata": {},
     "output_type": "execute_result"
    }
   ],
   "source": [
    "import statsmodels.api as sm\n",
    "\n",
    "X4 = df[['Chem.CA', 'Chem.TEST1', 'Chem.TEST2', 'Chem.TEST3']].values\n",
    "\n",
    "# Add a column to the data, for statsmodels to do matrix multiplication.\n",
    "X4 = sm.add_constant(X4)\n",
    "y4 = df[['Chem.SemMark']].values\n",
    "X4"
   ]
  },
  {
   "cell_type": "code",
   "execution_count": 39,
   "id": "76f2614f",
   "metadata": {},
   "outputs": [
    {
     "data": {
      "text/html": [
       "<table class=\"simpletable\">\n",
       "<caption>OLS Regression Results</caption>\n",
       "<tr>\n",
       "  <th>Dep. Variable:</th>            <td>y</td>        <th>  R-squared:         </th> <td>   1.000</td> \n",
       "</tr>\n",
       "<tr>\n",
       "  <th>Model:</th>                   <td>OLS</td>       <th>  Adj. R-squared:    </th> <td>   1.000</td> \n",
       "</tr>\n",
       "<tr>\n",
       "  <th>Method:</th>             <td>Least Squares</td>  <th>  F-statistic:       </th> <td>1.947e+05</td>\n",
       "</tr>\n",
       "<tr>\n",
       "  <th>Date:</th>             <td>Sun, 23 Jun 2024</td> <th>  Prob (F-statistic):</th>  <td>  0.00</td>  \n",
       "</tr>\n",
       "<tr>\n",
       "  <th>Time:</th>                 <td>21:11:14</td>     <th>  Log-Likelihood:    </th> <td> -46.886</td> \n",
       "</tr>\n",
       "<tr>\n",
       "  <th>No. Observations:</th>      <td>   335</td>      <th>  AIC:               </th> <td>   103.8</td> \n",
       "</tr>\n",
       "<tr>\n",
       "  <th>Df Residuals:</th>          <td>   330</td>      <th>  BIC:               </th> <td>   122.8</td> \n",
       "</tr>\n",
       "<tr>\n",
       "  <th>Df Model:</th>              <td>     4</td>      <th>                     </th>     <td> </td>    \n",
       "</tr>\n",
       "<tr>\n",
       "  <th>Covariance Type:</th>      <td>nonrobust</td>    <th>                     </th>     <td> </td>    \n",
       "</tr>\n",
       "</table>\n",
       "<table class=\"simpletable\">\n",
       "<tr>\n",
       "    <td></td>       <th>coef</th>     <th>std err</th>      <th>t</th>      <th>P>|t|</th>  <th>[0.025</th>    <th>0.975]</th>  \n",
       "</tr>\n",
       "<tr>\n",
       "  <th>const</th> <td>    0.1589</td> <td>    0.113</td> <td>    1.411</td> <td> 0.159</td> <td>   -0.063</td> <td>    0.380</td>\n",
       "</tr>\n",
       "<tr>\n",
       "  <th>x1</th>    <td>    0.3995</td> <td>    0.002</td> <td>  223.851</td> <td> 0.000</td> <td>    0.396</td> <td>    0.403</td>\n",
       "</tr>\n",
       "<tr>\n",
       "  <th>x2</th>    <td>    0.1992</td> <td>    0.001</td> <td>  166.083</td> <td> 0.000</td> <td>    0.197</td> <td>    0.202</td>\n",
       "</tr>\n",
       "<tr>\n",
       "  <th>x3</th>    <td>    0.1992</td> <td>    0.001</td> <td>  187.889</td> <td> 0.000</td> <td>    0.197</td> <td>    0.201</td>\n",
       "</tr>\n",
       "<tr>\n",
       "  <th>x4</th>    <td>    0.2005</td> <td>    0.001</td> <td>  216.765</td> <td> 0.000</td> <td>    0.199</td> <td>    0.202</td>\n",
       "</tr>\n",
       "</table>\n",
       "<table class=\"simpletable\">\n",
       "<tr>\n",
       "  <th>Omnibus:</th>       <td>266.924</td> <th>  Durbin-Watson:     </th> <td>   1.933</td>\n",
       "</tr>\n",
       "<tr>\n",
       "  <th>Prob(Omnibus):</th> <td> 0.000</td>  <th>  Jarque-Bera (JB):  </th> <td>  21.876</td>\n",
       "</tr>\n",
       "<tr>\n",
       "  <th>Skew:</th>          <td>-0.033</td>  <th>  Prob(JB):          </th> <td>1.78e-05</td>\n",
       "</tr>\n",
       "<tr>\n",
       "  <th>Kurtosis:</th>      <td> 1.750</td>  <th>  Cond. No.          </th> <td>1.15e+03</td>\n",
       "</tr>\n",
       "</table><br/><br/>Notes:<br/>[1] Standard Errors assume that the covariance matrix of the errors is correctly specified.<br/>[2] The condition number is large, 1.15e+03. This might indicate that there are<br/>strong multicollinearity or other numerical problems."
      ],
      "text/latex": [
       "\\begin{center}\n",
       "\\begin{tabular}{lclc}\n",
       "\\toprule\n",
       "\\textbf{Dep. Variable:}    &        y         & \\textbf{  R-squared:         } &     1.000   \\\\\n",
       "\\textbf{Model:}            &       OLS        & \\textbf{  Adj. R-squared:    } &     1.000   \\\\\n",
       "\\textbf{Method:}           &  Least Squares   & \\textbf{  F-statistic:       } & 1.947e+05   \\\\\n",
       "\\textbf{Date:}             & Sun, 23 Jun 2024 & \\textbf{  Prob (F-statistic):} &     0.00    \\\\\n",
       "\\textbf{Time:}             &     21:11:14     & \\textbf{  Log-Likelihood:    } &   -46.886   \\\\\n",
       "\\textbf{No. Observations:} &         335      & \\textbf{  AIC:               } &     103.8   \\\\\n",
       "\\textbf{Df Residuals:}     &         330      & \\textbf{  BIC:               } &     122.8   \\\\\n",
       "\\textbf{Df Model:}         &           4      & \\textbf{                     } &             \\\\\n",
       "\\textbf{Covariance Type:}  &    nonrobust     & \\textbf{                     } &             \\\\\n",
       "\\bottomrule\n",
       "\\end{tabular}\n",
       "\\begin{tabular}{lcccccc}\n",
       "               & \\textbf{coef} & \\textbf{std err} & \\textbf{t} & \\textbf{P$> |$t$|$} & \\textbf{[0.025} & \\textbf{0.975]}  \\\\\n",
       "\\midrule\n",
       "\\textbf{const} &       0.1589  &        0.113     &     1.411  &         0.159        &       -0.063    &        0.380     \\\\\n",
       "\\textbf{x1}    &       0.3995  &        0.002     &   223.851  &         0.000        &        0.396    &        0.403     \\\\\n",
       "\\textbf{x2}    &       0.1992  &        0.001     &   166.083  &         0.000        &        0.197    &        0.202     \\\\\n",
       "\\textbf{x3}    &       0.1992  &        0.001     &   187.889  &         0.000        &        0.197    &        0.201     \\\\\n",
       "\\textbf{x4}    &       0.2005  &        0.001     &   216.765  &         0.000        &        0.199    &        0.202     \\\\\n",
       "\\bottomrule\n",
       "\\end{tabular}\n",
       "\\begin{tabular}{lclc}\n",
       "\\textbf{Omnibus:}       & 266.924 & \\textbf{  Durbin-Watson:     } &    1.933  \\\\\n",
       "\\textbf{Prob(Omnibus):} &   0.000 & \\textbf{  Jarque-Bera (JB):  } &   21.876  \\\\\n",
       "\\textbf{Skew:}          &  -0.033 & \\textbf{  Prob(JB):          } & 1.78e-05  \\\\\n",
       "\\textbf{Kurtosis:}      &   1.750 & \\textbf{  Cond. No.          } & 1.15e+03  \\\\\n",
       "\\bottomrule\n",
       "\\end{tabular}\n",
       "%\\caption{OLS Regression Results}\n",
       "\\end{center}\n",
       "\n",
       "Notes: \\newline\n",
       " [1] Standard Errors assume that the covariance matrix of the errors is correctly specified. \\newline\n",
       " [2] The condition number is large, 1.15e+03. This might indicate that there are \\newline\n",
       " strong multicollinearity or other numerical problems."
      ],
      "text/plain": [
       "<class 'statsmodels.iolib.summary.Summary'>\n",
       "\"\"\"\n",
       "                            OLS Regression Results                            \n",
       "==============================================================================\n",
       "Dep. Variable:                      y   R-squared:                       1.000\n",
       "Model:                            OLS   Adj. R-squared:                  1.000\n",
       "Method:                 Least Squares   F-statistic:                 1.947e+05\n",
       "Date:                Sun, 23 Jun 2024   Prob (F-statistic):               0.00\n",
       "Time:                        21:11:14   Log-Likelihood:                -46.886\n",
       "No. Observations:                 335   AIC:                             103.8\n",
       "Df Residuals:                     330   BIC:                             122.8\n",
       "Df Model:                           4                                         \n",
       "Covariance Type:            nonrobust                                         \n",
       "==============================================================================\n",
       "                 coef    std err          t      P>|t|      [0.025      0.975]\n",
       "------------------------------------------------------------------------------\n",
       "const          0.1589      0.113      1.411      0.159      -0.063       0.380\n",
       "x1             0.3995      0.002    223.851      0.000       0.396       0.403\n",
       "x2             0.1992      0.001    166.083      0.000       0.197       0.202\n",
       "x3             0.1992      0.001    187.889      0.000       0.197       0.201\n",
       "x4             0.2005      0.001    216.765      0.000       0.199       0.202\n",
       "==============================================================================\n",
       "Omnibus:                      266.924   Durbin-Watson:                   1.933\n",
       "Prob(Omnibus):                  0.000   Jarque-Bera (JB):               21.876\n",
       "Skew:                          -0.033   Prob(JB):                     1.78e-05\n",
       "Kurtosis:                       1.750   Cond. No.                     1.15e+03\n",
       "==============================================================================\n",
       "\n",
       "Notes:\n",
       "[1] Standard Errors assume that the covariance matrix of the errors is correctly specified.\n",
       "[2] The condition number is large, 1.15e+03. This might indicate that there are\n",
       "strong multicollinearity or other numerical problems.\n",
       "\"\"\""
      ]
     },
     "execution_count": 39,
     "metadata": {},
     "output_type": "execute_result"
    }
   ],
   "source": [
    "# create ols model\n",
    "model4 = sm.OLS(y4,X4)\n",
    "model4 = model4.fit()\n",
    "predictions = model4.predict(X4)\n",
    "\n",
    "# code here for summary \n",
    "model4.summary()\n",
    "\n",
    "#P>t is also known as the p-value"
   ]
  },
  {
   "cell_type": "markdown",
   "id": "667dad23",
   "metadata": {},
   "source": [
    "The level of significance is set to 0.05. p-value of Chem.CA, Chem.TEST1, Chem.TEST2, Chem.TEST3 are less than 0.05 and therefore we can derived that the coefficient is significantly more than 0, indicating that these variables have a significant impact on the final semester mark for Chemistry. Chem.CA, Chem.TEST1, Chem.TEST2, Chem.TEST3 contribute 39.95%, 19.92%, 19.92% and 20.05% respectively to the final semester mark for Chem. "
   ]
  },
  {
   "cell_type": "markdown",
   "id": "05f2ca44",
   "metadata": {},
   "source": [
    "## Question 6: If we know a student’s Chem, Writing, Physics marks, can we predict the Programing mark? Will knowing the Acad_Grp increase the accuracy of the prediction?\n",
    "## (20 Marks)\n",
    "\n",
    "## Hint: Perform linear regression on the dataset to produce a model. Examine the data for outliers that could have high influence or leverage. Split the data into train and test set. Perform linear regression on the dataset to produce a model. For categorical data, use encoding before including it in the model. Evaluate the model."
   ]
  },
  {
   "cell_type": "code",
   "execution_count": 40,
   "id": "ece2f963",
   "metadata": {},
   "outputs": [],
   "source": [
    "impute = df['Chem.SemMark'].median()\n",
    "\n",
    "df['Chem.SemMark'] = df['Chem.SemMark'].fillna(impute)"
   ]
  },
  {
   "cell_type": "code",
   "execution_count": 41,
   "id": "17496168",
   "metadata": {},
   "outputs": [],
   "source": [
    "impute = df['Writing.SemMark'].median()\n",
    "\n",
    "df['Writing.SemMark'] = df['Writing.SemMark'].fillna(impute)"
   ]
  },
  {
   "cell_type": "code",
   "execution_count": 42,
   "id": "b59a06e4",
   "metadata": {},
   "outputs": [],
   "source": [
    "impute = df['Physics.SemMark'].median()\n",
    "\n",
    "df['Physics.SemMark'] = df['Physics.SemMark'].fillna(impute)"
   ]
  },
  {
   "cell_type": "markdown",
   "id": "c8cbbd1b",
   "metadata": {},
   "source": [
    "Missing datas were imputed with median."
   ]
  },
  {
   "cell_type": "markdown",
   "id": "a2339562",
   "metadata": {},
   "source": [
    "## Chem, Writing, Physics marks"
   ]
  },
  {
   "cell_type": "code",
   "execution_count": 43,
   "id": "fef740b5",
   "metadata": {},
   "outputs": [],
   "source": [
    "X6_ec = df[['Chem.SemMark', 'Writing.SemMark' , 'Physics.SemMark']]\n",
    "y6 = df['Prog.SemMark']"
   ]
  },
  {
   "cell_type": "markdown",
   "id": "a5a3d94c",
   "metadata": {},
   "source": [
    "## Split the dataset into Train and Test Set\n"
   ]
  },
  {
   "cell_type": "code",
   "execution_count": 44,
   "id": "2921821e",
   "metadata": {},
   "outputs": [],
   "source": [
    "from sklearn.model_selection import train_test_split\n",
    "# split into train test set, 20% for test\n",
    "X6_train, X6_test, y6_train, y6_test = train_test_split(X6_ec, y6, test_size = 0.2, random_state = 0)"
   ]
  },
  {
   "cell_type": "code",
   "execution_count": 45,
   "id": "a19bd056",
   "metadata": {},
   "outputs": [
    {
     "data": {
      "text/html": [
       "<style>#sk-container-id-1 {\n",
       "  /* Definition of color scheme common for light and dark mode */\n",
       "  --sklearn-color-text: black;\n",
       "  --sklearn-color-line: gray;\n",
       "  /* Definition of color scheme for unfitted estimators */\n",
       "  --sklearn-color-unfitted-level-0: #fff5e6;\n",
       "  --sklearn-color-unfitted-level-1: #f6e4d2;\n",
       "  --sklearn-color-unfitted-level-2: #ffe0b3;\n",
       "  --sklearn-color-unfitted-level-3: chocolate;\n",
       "  /* Definition of color scheme for fitted estimators */\n",
       "  --sklearn-color-fitted-level-0: #f0f8ff;\n",
       "  --sklearn-color-fitted-level-1: #d4ebff;\n",
       "  --sklearn-color-fitted-level-2: #b3dbfd;\n",
       "  --sklearn-color-fitted-level-3: cornflowerblue;\n",
       "\n",
       "  /* Specific color for light theme */\n",
       "  --sklearn-color-text-on-default-background: var(--sg-text-color, var(--theme-code-foreground, var(--jp-content-font-color1, black)));\n",
       "  --sklearn-color-background: var(--sg-background-color, var(--theme-background, var(--jp-layout-color0, white)));\n",
       "  --sklearn-color-border-box: var(--sg-text-color, var(--theme-code-foreground, var(--jp-content-font-color1, black)));\n",
       "  --sklearn-color-icon: #696969;\n",
       "\n",
       "  @media (prefers-color-scheme: dark) {\n",
       "    /* Redefinition of color scheme for dark theme */\n",
       "    --sklearn-color-text-on-default-background: var(--sg-text-color, var(--theme-code-foreground, var(--jp-content-font-color1, white)));\n",
       "    --sklearn-color-background: var(--sg-background-color, var(--theme-background, var(--jp-layout-color0, #111)));\n",
       "    --sklearn-color-border-box: var(--sg-text-color, var(--theme-code-foreground, var(--jp-content-font-color1, white)));\n",
       "    --sklearn-color-icon: #878787;\n",
       "  }\n",
       "}\n",
       "\n",
       "#sk-container-id-1 {\n",
       "  color: var(--sklearn-color-text);\n",
       "}\n",
       "\n",
       "#sk-container-id-1 pre {\n",
       "  padding: 0;\n",
       "}\n",
       "\n",
       "#sk-container-id-1 input.sk-hidden--visually {\n",
       "  border: 0;\n",
       "  clip: rect(1px 1px 1px 1px);\n",
       "  clip: rect(1px, 1px, 1px, 1px);\n",
       "  height: 1px;\n",
       "  margin: -1px;\n",
       "  overflow: hidden;\n",
       "  padding: 0;\n",
       "  position: absolute;\n",
       "  width: 1px;\n",
       "}\n",
       "\n",
       "#sk-container-id-1 div.sk-dashed-wrapped {\n",
       "  border: 1px dashed var(--sklearn-color-line);\n",
       "  margin: 0 0.4em 0.5em 0.4em;\n",
       "  box-sizing: border-box;\n",
       "  padding-bottom: 0.4em;\n",
       "  background-color: var(--sklearn-color-background);\n",
       "}\n",
       "\n",
       "#sk-container-id-1 div.sk-container {\n",
       "  /* jupyter's `normalize.less` sets `[hidden] { display: none; }`\n",
       "     but bootstrap.min.css set `[hidden] { display: none !important; }`\n",
       "     so we also need the `!important` here to be able to override the\n",
       "     default hidden behavior on the sphinx rendered scikit-learn.org.\n",
       "     See: https://github.com/scikit-learn/scikit-learn/issues/21755 */\n",
       "  display: inline-block !important;\n",
       "  position: relative;\n",
       "}\n",
       "\n",
       "#sk-container-id-1 div.sk-text-repr-fallback {\n",
       "  display: none;\n",
       "}\n",
       "\n",
       "div.sk-parallel-item,\n",
       "div.sk-serial,\n",
       "div.sk-item {\n",
       "  /* draw centered vertical line to link estimators */\n",
       "  background-image: linear-gradient(var(--sklearn-color-text-on-default-background), var(--sklearn-color-text-on-default-background));\n",
       "  background-size: 2px 100%;\n",
       "  background-repeat: no-repeat;\n",
       "  background-position: center center;\n",
       "}\n",
       "\n",
       "/* Parallel-specific style estimator block */\n",
       "\n",
       "#sk-container-id-1 div.sk-parallel-item::after {\n",
       "  content: \"\";\n",
       "  width: 100%;\n",
       "  border-bottom: 2px solid var(--sklearn-color-text-on-default-background);\n",
       "  flex-grow: 1;\n",
       "}\n",
       "\n",
       "#sk-container-id-1 div.sk-parallel {\n",
       "  display: flex;\n",
       "  align-items: stretch;\n",
       "  justify-content: center;\n",
       "  background-color: var(--sklearn-color-background);\n",
       "  position: relative;\n",
       "}\n",
       "\n",
       "#sk-container-id-1 div.sk-parallel-item {\n",
       "  display: flex;\n",
       "  flex-direction: column;\n",
       "}\n",
       "\n",
       "#sk-container-id-1 div.sk-parallel-item:first-child::after {\n",
       "  align-self: flex-end;\n",
       "  width: 50%;\n",
       "}\n",
       "\n",
       "#sk-container-id-1 div.sk-parallel-item:last-child::after {\n",
       "  align-self: flex-start;\n",
       "  width: 50%;\n",
       "}\n",
       "\n",
       "#sk-container-id-1 div.sk-parallel-item:only-child::after {\n",
       "  width: 0;\n",
       "}\n",
       "\n",
       "/* Serial-specific style estimator block */\n",
       "\n",
       "#sk-container-id-1 div.sk-serial {\n",
       "  display: flex;\n",
       "  flex-direction: column;\n",
       "  align-items: center;\n",
       "  background-color: var(--sklearn-color-background);\n",
       "  padding-right: 1em;\n",
       "  padding-left: 1em;\n",
       "}\n",
       "\n",
       "\n",
       "/* Toggleable style: style used for estimator/Pipeline/ColumnTransformer box that is\n",
       "clickable and can be expanded/collapsed.\n",
       "- Pipeline and ColumnTransformer use this feature and define the default style\n",
       "- Estimators will overwrite some part of the style using the `sk-estimator` class\n",
       "*/\n",
       "\n",
       "/* Pipeline and ColumnTransformer style (default) */\n",
       "\n",
       "#sk-container-id-1 div.sk-toggleable {\n",
       "  /* Default theme specific background. It is overwritten whether we have a\n",
       "  specific estimator or a Pipeline/ColumnTransformer */\n",
       "  background-color: var(--sklearn-color-background);\n",
       "}\n",
       "\n",
       "/* Toggleable label */\n",
       "#sk-container-id-1 label.sk-toggleable__label {\n",
       "  cursor: pointer;\n",
       "  display: block;\n",
       "  width: 100%;\n",
       "  margin-bottom: 0;\n",
       "  padding: 0.5em;\n",
       "  box-sizing: border-box;\n",
       "  text-align: center;\n",
       "}\n",
       "\n",
       "#sk-container-id-1 label.sk-toggleable__label-arrow:before {\n",
       "  /* Arrow on the left of the label */\n",
       "  content: \"▸\";\n",
       "  float: left;\n",
       "  margin-right: 0.25em;\n",
       "  color: var(--sklearn-color-icon);\n",
       "}\n",
       "\n",
       "#sk-container-id-1 label.sk-toggleable__label-arrow:hover:before {\n",
       "  color: var(--sklearn-color-text);\n",
       "}\n",
       "\n",
       "/* Toggleable content - dropdown */\n",
       "\n",
       "#sk-container-id-1 div.sk-toggleable__content {\n",
       "  max-height: 0;\n",
       "  max-width: 0;\n",
       "  overflow: hidden;\n",
       "  text-align: left;\n",
       "  /* unfitted */\n",
       "  background-color: var(--sklearn-color-unfitted-level-0);\n",
       "}\n",
       "\n",
       "#sk-container-id-1 div.sk-toggleable__content.fitted {\n",
       "  /* fitted */\n",
       "  background-color: var(--sklearn-color-fitted-level-0);\n",
       "}\n",
       "\n",
       "#sk-container-id-1 div.sk-toggleable__content pre {\n",
       "  margin: 0.2em;\n",
       "  border-radius: 0.25em;\n",
       "  color: var(--sklearn-color-text);\n",
       "  /* unfitted */\n",
       "  background-color: var(--sklearn-color-unfitted-level-0);\n",
       "}\n",
       "\n",
       "#sk-container-id-1 div.sk-toggleable__content.fitted pre {\n",
       "  /* unfitted */\n",
       "  background-color: var(--sklearn-color-fitted-level-0);\n",
       "}\n",
       "\n",
       "#sk-container-id-1 input.sk-toggleable__control:checked~div.sk-toggleable__content {\n",
       "  /* Expand drop-down */\n",
       "  max-height: 200px;\n",
       "  max-width: 100%;\n",
       "  overflow: auto;\n",
       "}\n",
       "\n",
       "#sk-container-id-1 input.sk-toggleable__control:checked~label.sk-toggleable__label-arrow:before {\n",
       "  content: \"▾\";\n",
       "}\n",
       "\n",
       "/* Pipeline/ColumnTransformer-specific style */\n",
       "\n",
       "#sk-container-id-1 div.sk-label input.sk-toggleable__control:checked~label.sk-toggleable__label {\n",
       "  color: var(--sklearn-color-text);\n",
       "  background-color: var(--sklearn-color-unfitted-level-2);\n",
       "}\n",
       "\n",
       "#sk-container-id-1 div.sk-label.fitted input.sk-toggleable__control:checked~label.sk-toggleable__label {\n",
       "  background-color: var(--sklearn-color-fitted-level-2);\n",
       "}\n",
       "\n",
       "/* Estimator-specific style */\n",
       "\n",
       "/* Colorize estimator box */\n",
       "#sk-container-id-1 div.sk-estimator input.sk-toggleable__control:checked~label.sk-toggleable__label {\n",
       "  /* unfitted */\n",
       "  background-color: var(--sklearn-color-unfitted-level-2);\n",
       "}\n",
       "\n",
       "#sk-container-id-1 div.sk-estimator.fitted input.sk-toggleable__control:checked~label.sk-toggleable__label {\n",
       "  /* fitted */\n",
       "  background-color: var(--sklearn-color-fitted-level-2);\n",
       "}\n",
       "\n",
       "#sk-container-id-1 div.sk-label label.sk-toggleable__label,\n",
       "#sk-container-id-1 div.sk-label label {\n",
       "  /* The background is the default theme color */\n",
       "  color: var(--sklearn-color-text-on-default-background);\n",
       "}\n",
       "\n",
       "/* On hover, darken the color of the background */\n",
       "#sk-container-id-1 div.sk-label:hover label.sk-toggleable__label {\n",
       "  color: var(--sklearn-color-text);\n",
       "  background-color: var(--sklearn-color-unfitted-level-2);\n",
       "}\n",
       "\n",
       "/* Label box, darken color on hover, fitted */\n",
       "#sk-container-id-1 div.sk-label.fitted:hover label.sk-toggleable__label.fitted {\n",
       "  color: var(--sklearn-color-text);\n",
       "  background-color: var(--sklearn-color-fitted-level-2);\n",
       "}\n",
       "\n",
       "/* Estimator label */\n",
       "\n",
       "#sk-container-id-1 div.sk-label label {\n",
       "  font-family: monospace;\n",
       "  font-weight: bold;\n",
       "  display: inline-block;\n",
       "  line-height: 1.2em;\n",
       "}\n",
       "\n",
       "#sk-container-id-1 div.sk-label-container {\n",
       "  text-align: center;\n",
       "}\n",
       "\n",
       "/* Estimator-specific */\n",
       "#sk-container-id-1 div.sk-estimator {\n",
       "  font-family: monospace;\n",
       "  border: 1px dotted var(--sklearn-color-border-box);\n",
       "  border-radius: 0.25em;\n",
       "  box-sizing: border-box;\n",
       "  margin-bottom: 0.5em;\n",
       "  /* unfitted */\n",
       "  background-color: var(--sklearn-color-unfitted-level-0);\n",
       "}\n",
       "\n",
       "#sk-container-id-1 div.sk-estimator.fitted {\n",
       "  /* fitted */\n",
       "  background-color: var(--sklearn-color-fitted-level-0);\n",
       "}\n",
       "\n",
       "/* on hover */\n",
       "#sk-container-id-1 div.sk-estimator:hover {\n",
       "  /* unfitted */\n",
       "  background-color: var(--sklearn-color-unfitted-level-2);\n",
       "}\n",
       "\n",
       "#sk-container-id-1 div.sk-estimator.fitted:hover {\n",
       "  /* fitted */\n",
       "  background-color: var(--sklearn-color-fitted-level-2);\n",
       "}\n",
       "\n",
       "/* Specification for estimator info (e.g. \"i\" and \"?\") */\n",
       "\n",
       "/* Common style for \"i\" and \"?\" */\n",
       "\n",
       ".sk-estimator-doc-link,\n",
       "a:link.sk-estimator-doc-link,\n",
       "a:visited.sk-estimator-doc-link {\n",
       "  float: right;\n",
       "  font-size: smaller;\n",
       "  line-height: 1em;\n",
       "  font-family: monospace;\n",
       "  background-color: var(--sklearn-color-background);\n",
       "  border-radius: 1em;\n",
       "  height: 1em;\n",
       "  width: 1em;\n",
       "  text-decoration: none !important;\n",
       "  margin-left: 1ex;\n",
       "  /* unfitted */\n",
       "  border: var(--sklearn-color-unfitted-level-1) 1pt solid;\n",
       "  color: var(--sklearn-color-unfitted-level-1);\n",
       "}\n",
       "\n",
       ".sk-estimator-doc-link.fitted,\n",
       "a:link.sk-estimator-doc-link.fitted,\n",
       "a:visited.sk-estimator-doc-link.fitted {\n",
       "  /* fitted */\n",
       "  border: var(--sklearn-color-fitted-level-1) 1pt solid;\n",
       "  color: var(--sklearn-color-fitted-level-1);\n",
       "}\n",
       "\n",
       "/* On hover */\n",
       "div.sk-estimator:hover .sk-estimator-doc-link:hover,\n",
       ".sk-estimator-doc-link:hover,\n",
       "div.sk-label-container:hover .sk-estimator-doc-link:hover,\n",
       ".sk-estimator-doc-link:hover {\n",
       "  /* unfitted */\n",
       "  background-color: var(--sklearn-color-unfitted-level-3);\n",
       "  color: var(--sklearn-color-background);\n",
       "  text-decoration: none;\n",
       "}\n",
       "\n",
       "div.sk-estimator.fitted:hover .sk-estimator-doc-link.fitted:hover,\n",
       ".sk-estimator-doc-link.fitted:hover,\n",
       "div.sk-label-container:hover .sk-estimator-doc-link.fitted:hover,\n",
       ".sk-estimator-doc-link.fitted:hover {\n",
       "  /* fitted */\n",
       "  background-color: var(--sklearn-color-fitted-level-3);\n",
       "  color: var(--sklearn-color-background);\n",
       "  text-decoration: none;\n",
       "}\n",
       "\n",
       "/* Span, style for the box shown on hovering the info icon */\n",
       ".sk-estimator-doc-link span {\n",
       "  display: none;\n",
       "  z-index: 9999;\n",
       "  position: relative;\n",
       "  font-weight: normal;\n",
       "  right: .2ex;\n",
       "  padding: .5ex;\n",
       "  margin: .5ex;\n",
       "  width: min-content;\n",
       "  min-width: 20ex;\n",
       "  max-width: 50ex;\n",
       "  color: var(--sklearn-color-text);\n",
       "  box-shadow: 2pt 2pt 4pt #999;\n",
       "  /* unfitted */\n",
       "  background: var(--sklearn-color-unfitted-level-0);\n",
       "  border: .5pt solid var(--sklearn-color-unfitted-level-3);\n",
       "}\n",
       "\n",
       ".sk-estimator-doc-link.fitted span {\n",
       "  /* fitted */\n",
       "  background: var(--sklearn-color-fitted-level-0);\n",
       "  border: var(--sklearn-color-fitted-level-3);\n",
       "}\n",
       "\n",
       ".sk-estimator-doc-link:hover span {\n",
       "  display: block;\n",
       "}\n",
       "\n",
       "/* \"?\"-specific style due to the `<a>` HTML tag */\n",
       "\n",
       "#sk-container-id-1 a.estimator_doc_link {\n",
       "  float: right;\n",
       "  font-size: 1rem;\n",
       "  line-height: 1em;\n",
       "  font-family: monospace;\n",
       "  background-color: var(--sklearn-color-background);\n",
       "  border-radius: 1rem;\n",
       "  height: 1rem;\n",
       "  width: 1rem;\n",
       "  text-decoration: none;\n",
       "  /* unfitted */\n",
       "  color: var(--sklearn-color-unfitted-level-1);\n",
       "  border: var(--sklearn-color-unfitted-level-1) 1pt solid;\n",
       "}\n",
       "\n",
       "#sk-container-id-1 a.estimator_doc_link.fitted {\n",
       "  /* fitted */\n",
       "  border: var(--sklearn-color-fitted-level-1) 1pt solid;\n",
       "  color: var(--sklearn-color-fitted-level-1);\n",
       "}\n",
       "\n",
       "/* On hover */\n",
       "#sk-container-id-1 a.estimator_doc_link:hover {\n",
       "  /* unfitted */\n",
       "  background-color: var(--sklearn-color-unfitted-level-3);\n",
       "  color: var(--sklearn-color-background);\n",
       "  text-decoration: none;\n",
       "}\n",
       "\n",
       "#sk-container-id-1 a.estimator_doc_link.fitted:hover {\n",
       "  /* fitted */\n",
       "  background-color: var(--sklearn-color-fitted-level-3);\n",
       "}\n",
       "</style><div id=\"sk-container-id-1\" class=\"sk-top-container\"><div class=\"sk-text-repr-fallback\"><pre>LinearRegression()</pre><b>In a Jupyter environment, please rerun this cell to show the HTML representation or trust the notebook. <br />On GitHub, the HTML representation is unable to render, please try loading this page with nbviewer.org.</b></div><div class=\"sk-container\" hidden><div class=\"sk-item\"><div class=\"sk-estimator fitted sk-toggleable\"><input class=\"sk-toggleable__control sk-hidden--visually\" id=\"sk-estimator-id-1\" type=\"checkbox\" checked><label for=\"sk-estimator-id-1\" class=\"sk-toggleable__label fitted sk-toggleable__label-arrow fitted\">&nbsp;&nbsp;LinearRegression<a class=\"sk-estimator-doc-link fitted\" rel=\"noreferrer\" target=\"_blank\" href=\"https://scikit-learn.org/1.4/modules/generated/sklearn.linear_model.LinearRegression.html\">?<span>Documentation for LinearRegression</span></a><span class=\"sk-estimator-doc-link fitted\">i<span>Fitted</span></span></label><div class=\"sk-toggleable__content fitted\"><pre>LinearRegression()</pre></div> </div></div></div></div>"
      ],
      "text/plain": [
       "LinearRegression()"
      ]
     },
     "execution_count": 45,
     "metadata": {},
     "output_type": "execute_result"
    }
   ],
   "source": [
    "from sklearn.linear_model import LinearRegression\n",
    "lm6 = LinearRegression()\n",
    "lm6.fit(X6_train, y6_train)"
   ]
  },
  {
   "cell_type": "markdown",
   "id": "babb7bcb",
   "metadata": {},
   "source": [
    "## Predicting the Test set results"
   ]
  },
  {
   "cell_type": "code",
   "execution_count": 46,
   "id": "3a206472",
   "metadata": {},
   "outputs": [],
   "source": [
    "y6_pred = lm6.predict(X6_test)\n",
    "np.set_printoptions(precision=2) # precision displays to 2dp"
   ]
  },
  {
   "cell_type": "markdown",
   "id": "44d0adb4",
   "metadata": {},
   "source": [
    "## Check the coefficients and $R^2$ value"
   ]
  },
  {
   "cell_type": "code",
   "execution_count": 47,
   "id": "374537b3",
   "metadata": {},
   "outputs": [
    {
     "name": "stdout",
     "output_type": "stream",
     "text": [
      "-52.29519931485741\n",
      "[0.46 0.6  0.58]\n",
      "0.508647048461419\n"
     ]
    }
   ],
   "source": [
    "# beta 0 or intercept value\n",
    "print(lm6.intercept_)\n",
    " \n",
    "# All the coefficients of the independent variables for 'Chem.SemMark', 'Writing.SemMark' , 'Physics.SemMark', 'Academic Group'\n",
    "print(lm6.coef_)\n",
    " \n",
    "# R-squared value of the model\n",
    "print(lm6.score(X6_train, y6_train))"
   ]
  },
  {
   "cell_type": "code",
   "execution_count": 48,
   "id": "3f6caed3",
   "metadata": {
    "scrolled": true
   },
   "outputs": [
    {
     "name": "stdout",
     "output_type": "stream",
     "text": [
      "R-squared:  0.3647727641644428\n",
      "RMSE:  12.9260815224211\n",
      "MAE:  8.971238188393285\n"
     ]
    }
   ],
   "source": [
    "from sklearn.metrics import r2_score, mean_squared_error, mean_absolute_error\n",
    "\n",
    "# R-squared (higher the better)\n",
    "print(\"R-squared: \", r2_score(y6_test, y6_pred))\n",
    "\n",
    "# Root Mean Square Error (lower error the better)\n",
    "print(\"RMSE: \",np.sqrt(mean_squared_error(y6_test, y6_pred)))\n",
    "\n",
    "# Mean Absoulte Error (lower error the better)\n",
    "print(\"MAE: \", mean_absolute_error(y6_test, y6_pred))"
   ]
  },
  {
   "cell_type": "markdown",
   "id": "43c74eb9",
   "metadata": {},
   "source": [
    "## Chem, Writing, Physics marks and Academic Group"
   ]
  },
  {
   "cell_type": "code",
   "execution_count": 49,
   "id": "5ce6f812",
   "metadata": {},
   "outputs": [],
   "source": [
    "df_1 = df[['Chem.SemMark', 'Writing.SemMark' , 'Physics.SemMark', 'Academic Group']]"
   ]
  },
  {
   "cell_type": "markdown",
   "id": "96c797ee",
   "metadata": {},
   "source": [
    "## Encode Categorical Data"
   ]
  },
  {
   "cell_type": "code",
   "execution_count": 50,
   "id": "7ef1bd0d",
   "metadata": {},
   "outputs": [
    {
     "name": "stdout",
     "output_type": "stream",
     "text": [
      "[[ 0.  0.  0. ... 93. 78. 79.]\n",
      " [ 0.  0.  0. ... 82. 80. 79.]\n",
      " [ 0.  0.  0. ... 80. 80. 86.]\n",
      " ...\n",
      " [ 0.  0.  0. ... 67. 77. 76.]\n",
      " [ 0.  0.  0. ... 55. 75. 67.]\n",
      " [ 0.  0.  0. ... 76. 78. 79.]]\n"
     ]
    }
   ],
   "source": [
    "from sklearn.compose import ColumnTransformer\n",
    "from sklearn.preprocessing import OneHotEncoder\n",
    "ct = ColumnTransformer(transformers=[('encoder', OneHotEncoder(), ['Academic Group'])], remainder='passthrough')\n",
    "X6_ec = np.array(ct.fit_transform(df_1))\n",
    "print(X6_ec)\n",
    "\n",
    "y6 = df['Prog.SemMark']\n"
   ]
  },
  {
   "cell_type": "markdown",
   "id": "52e4c4ec",
   "metadata": {},
   "source": [
    "## Split the dataset into Train and Test Set\n"
   ]
  },
  {
   "cell_type": "code",
   "execution_count": 51,
   "id": "32c9722a",
   "metadata": {},
   "outputs": [],
   "source": [
    "from sklearn.model_selection import train_test_split\n",
    "# split into train test set, 20% for test\n",
    "X6_train, X6_test, y6_train, y6_test = train_test_split(X6_ec, y6, test_size = 0.2, random_state = 0)"
   ]
  },
  {
   "cell_type": "code",
   "execution_count": 52,
   "id": "f66ef5f6",
   "metadata": {},
   "outputs": [
    {
     "data": {
      "text/html": [
       "<style>#sk-container-id-2 {\n",
       "  /* Definition of color scheme common for light and dark mode */\n",
       "  --sklearn-color-text: black;\n",
       "  --sklearn-color-line: gray;\n",
       "  /* Definition of color scheme for unfitted estimators */\n",
       "  --sklearn-color-unfitted-level-0: #fff5e6;\n",
       "  --sklearn-color-unfitted-level-1: #f6e4d2;\n",
       "  --sklearn-color-unfitted-level-2: #ffe0b3;\n",
       "  --sklearn-color-unfitted-level-3: chocolate;\n",
       "  /* Definition of color scheme for fitted estimators */\n",
       "  --sklearn-color-fitted-level-0: #f0f8ff;\n",
       "  --sklearn-color-fitted-level-1: #d4ebff;\n",
       "  --sklearn-color-fitted-level-2: #b3dbfd;\n",
       "  --sklearn-color-fitted-level-3: cornflowerblue;\n",
       "\n",
       "  /* Specific color for light theme */\n",
       "  --sklearn-color-text-on-default-background: var(--sg-text-color, var(--theme-code-foreground, var(--jp-content-font-color1, black)));\n",
       "  --sklearn-color-background: var(--sg-background-color, var(--theme-background, var(--jp-layout-color0, white)));\n",
       "  --sklearn-color-border-box: var(--sg-text-color, var(--theme-code-foreground, var(--jp-content-font-color1, black)));\n",
       "  --sklearn-color-icon: #696969;\n",
       "\n",
       "  @media (prefers-color-scheme: dark) {\n",
       "    /* Redefinition of color scheme for dark theme */\n",
       "    --sklearn-color-text-on-default-background: var(--sg-text-color, var(--theme-code-foreground, var(--jp-content-font-color1, white)));\n",
       "    --sklearn-color-background: var(--sg-background-color, var(--theme-background, var(--jp-layout-color0, #111)));\n",
       "    --sklearn-color-border-box: var(--sg-text-color, var(--theme-code-foreground, var(--jp-content-font-color1, white)));\n",
       "    --sklearn-color-icon: #878787;\n",
       "  }\n",
       "}\n",
       "\n",
       "#sk-container-id-2 {\n",
       "  color: var(--sklearn-color-text);\n",
       "}\n",
       "\n",
       "#sk-container-id-2 pre {\n",
       "  padding: 0;\n",
       "}\n",
       "\n",
       "#sk-container-id-2 input.sk-hidden--visually {\n",
       "  border: 0;\n",
       "  clip: rect(1px 1px 1px 1px);\n",
       "  clip: rect(1px, 1px, 1px, 1px);\n",
       "  height: 1px;\n",
       "  margin: -1px;\n",
       "  overflow: hidden;\n",
       "  padding: 0;\n",
       "  position: absolute;\n",
       "  width: 1px;\n",
       "}\n",
       "\n",
       "#sk-container-id-2 div.sk-dashed-wrapped {\n",
       "  border: 1px dashed var(--sklearn-color-line);\n",
       "  margin: 0 0.4em 0.5em 0.4em;\n",
       "  box-sizing: border-box;\n",
       "  padding-bottom: 0.4em;\n",
       "  background-color: var(--sklearn-color-background);\n",
       "}\n",
       "\n",
       "#sk-container-id-2 div.sk-container {\n",
       "  /* jupyter's `normalize.less` sets `[hidden] { display: none; }`\n",
       "     but bootstrap.min.css set `[hidden] { display: none !important; }`\n",
       "     so we also need the `!important` here to be able to override the\n",
       "     default hidden behavior on the sphinx rendered scikit-learn.org.\n",
       "     See: https://github.com/scikit-learn/scikit-learn/issues/21755 */\n",
       "  display: inline-block !important;\n",
       "  position: relative;\n",
       "}\n",
       "\n",
       "#sk-container-id-2 div.sk-text-repr-fallback {\n",
       "  display: none;\n",
       "}\n",
       "\n",
       "div.sk-parallel-item,\n",
       "div.sk-serial,\n",
       "div.sk-item {\n",
       "  /* draw centered vertical line to link estimators */\n",
       "  background-image: linear-gradient(var(--sklearn-color-text-on-default-background), var(--sklearn-color-text-on-default-background));\n",
       "  background-size: 2px 100%;\n",
       "  background-repeat: no-repeat;\n",
       "  background-position: center center;\n",
       "}\n",
       "\n",
       "/* Parallel-specific style estimator block */\n",
       "\n",
       "#sk-container-id-2 div.sk-parallel-item::after {\n",
       "  content: \"\";\n",
       "  width: 100%;\n",
       "  border-bottom: 2px solid var(--sklearn-color-text-on-default-background);\n",
       "  flex-grow: 1;\n",
       "}\n",
       "\n",
       "#sk-container-id-2 div.sk-parallel {\n",
       "  display: flex;\n",
       "  align-items: stretch;\n",
       "  justify-content: center;\n",
       "  background-color: var(--sklearn-color-background);\n",
       "  position: relative;\n",
       "}\n",
       "\n",
       "#sk-container-id-2 div.sk-parallel-item {\n",
       "  display: flex;\n",
       "  flex-direction: column;\n",
       "}\n",
       "\n",
       "#sk-container-id-2 div.sk-parallel-item:first-child::after {\n",
       "  align-self: flex-end;\n",
       "  width: 50%;\n",
       "}\n",
       "\n",
       "#sk-container-id-2 div.sk-parallel-item:last-child::after {\n",
       "  align-self: flex-start;\n",
       "  width: 50%;\n",
       "}\n",
       "\n",
       "#sk-container-id-2 div.sk-parallel-item:only-child::after {\n",
       "  width: 0;\n",
       "}\n",
       "\n",
       "/* Serial-specific style estimator block */\n",
       "\n",
       "#sk-container-id-2 div.sk-serial {\n",
       "  display: flex;\n",
       "  flex-direction: column;\n",
       "  align-items: center;\n",
       "  background-color: var(--sklearn-color-background);\n",
       "  padding-right: 1em;\n",
       "  padding-left: 1em;\n",
       "}\n",
       "\n",
       "\n",
       "/* Toggleable style: style used for estimator/Pipeline/ColumnTransformer box that is\n",
       "clickable and can be expanded/collapsed.\n",
       "- Pipeline and ColumnTransformer use this feature and define the default style\n",
       "- Estimators will overwrite some part of the style using the `sk-estimator` class\n",
       "*/\n",
       "\n",
       "/* Pipeline and ColumnTransformer style (default) */\n",
       "\n",
       "#sk-container-id-2 div.sk-toggleable {\n",
       "  /* Default theme specific background. It is overwritten whether we have a\n",
       "  specific estimator or a Pipeline/ColumnTransformer */\n",
       "  background-color: var(--sklearn-color-background);\n",
       "}\n",
       "\n",
       "/* Toggleable label */\n",
       "#sk-container-id-2 label.sk-toggleable__label {\n",
       "  cursor: pointer;\n",
       "  display: block;\n",
       "  width: 100%;\n",
       "  margin-bottom: 0;\n",
       "  padding: 0.5em;\n",
       "  box-sizing: border-box;\n",
       "  text-align: center;\n",
       "}\n",
       "\n",
       "#sk-container-id-2 label.sk-toggleable__label-arrow:before {\n",
       "  /* Arrow on the left of the label */\n",
       "  content: \"▸\";\n",
       "  float: left;\n",
       "  margin-right: 0.25em;\n",
       "  color: var(--sklearn-color-icon);\n",
       "}\n",
       "\n",
       "#sk-container-id-2 label.sk-toggleable__label-arrow:hover:before {\n",
       "  color: var(--sklearn-color-text);\n",
       "}\n",
       "\n",
       "/* Toggleable content - dropdown */\n",
       "\n",
       "#sk-container-id-2 div.sk-toggleable__content {\n",
       "  max-height: 0;\n",
       "  max-width: 0;\n",
       "  overflow: hidden;\n",
       "  text-align: left;\n",
       "  /* unfitted */\n",
       "  background-color: var(--sklearn-color-unfitted-level-0);\n",
       "}\n",
       "\n",
       "#sk-container-id-2 div.sk-toggleable__content.fitted {\n",
       "  /* fitted */\n",
       "  background-color: var(--sklearn-color-fitted-level-0);\n",
       "}\n",
       "\n",
       "#sk-container-id-2 div.sk-toggleable__content pre {\n",
       "  margin: 0.2em;\n",
       "  border-radius: 0.25em;\n",
       "  color: var(--sklearn-color-text);\n",
       "  /* unfitted */\n",
       "  background-color: var(--sklearn-color-unfitted-level-0);\n",
       "}\n",
       "\n",
       "#sk-container-id-2 div.sk-toggleable__content.fitted pre {\n",
       "  /* unfitted */\n",
       "  background-color: var(--sklearn-color-fitted-level-0);\n",
       "}\n",
       "\n",
       "#sk-container-id-2 input.sk-toggleable__control:checked~div.sk-toggleable__content {\n",
       "  /* Expand drop-down */\n",
       "  max-height: 200px;\n",
       "  max-width: 100%;\n",
       "  overflow: auto;\n",
       "}\n",
       "\n",
       "#sk-container-id-2 input.sk-toggleable__control:checked~label.sk-toggleable__label-arrow:before {\n",
       "  content: \"▾\";\n",
       "}\n",
       "\n",
       "/* Pipeline/ColumnTransformer-specific style */\n",
       "\n",
       "#sk-container-id-2 div.sk-label input.sk-toggleable__control:checked~label.sk-toggleable__label {\n",
       "  color: var(--sklearn-color-text);\n",
       "  background-color: var(--sklearn-color-unfitted-level-2);\n",
       "}\n",
       "\n",
       "#sk-container-id-2 div.sk-label.fitted input.sk-toggleable__control:checked~label.sk-toggleable__label {\n",
       "  background-color: var(--sklearn-color-fitted-level-2);\n",
       "}\n",
       "\n",
       "/* Estimator-specific style */\n",
       "\n",
       "/* Colorize estimator box */\n",
       "#sk-container-id-2 div.sk-estimator input.sk-toggleable__control:checked~label.sk-toggleable__label {\n",
       "  /* unfitted */\n",
       "  background-color: var(--sklearn-color-unfitted-level-2);\n",
       "}\n",
       "\n",
       "#sk-container-id-2 div.sk-estimator.fitted input.sk-toggleable__control:checked~label.sk-toggleable__label {\n",
       "  /* fitted */\n",
       "  background-color: var(--sklearn-color-fitted-level-2);\n",
       "}\n",
       "\n",
       "#sk-container-id-2 div.sk-label label.sk-toggleable__label,\n",
       "#sk-container-id-2 div.sk-label label {\n",
       "  /* The background is the default theme color */\n",
       "  color: var(--sklearn-color-text-on-default-background);\n",
       "}\n",
       "\n",
       "/* On hover, darken the color of the background */\n",
       "#sk-container-id-2 div.sk-label:hover label.sk-toggleable__label {\n",
       "  color: var(--sklearn-color-text);\n",
       "  background-color: var(--sklearn-color-unfitted-level-2);\n",
       "}\n",
       "\n",
       "/* Label box, darken color on hover, fitted */\n",
       "#sk-container-id-2 div.sk-label.fitted:hover label.sk-toggleable__label.fitted {\n",
       "  color: var(--sklearn-color-text);\n",
       "  background-color: var(--sklearn-color-fitted-level-2);\n",
       "}\n",
       "\n",
       "/* Estimator label */\n",
       "\n",
       "#sk-container-id-2 div.sk-label label {\n",
       "  font-family: monospace;\n",
       "  font-weight: bold;\n",
       "  display: inline-block;\n",
       "  line-height: 1.2em;\n",
       "}\n",
       "\n",
       "#sk-container-id-2 div.sk-label-container {\n",
       "  text-align: center;\n",
       "}\n",
       "\n",
       "/* Estimator-specific */\n",
       "#sk-container-id-2 div.sk-estimator {\n",
       "  font-family: monospace;\n",
       "  border: 1px dotted var(--sklearn-color-border-box);\n",
       "  border-radius: 0.25em;\n",
       "  box-sizing: border-box;\n",
       "  margin-bottom: 0.5em;\n",
       "  /* unfitted */\n",
       "  background-color: var(--sklearn-color-unfitted-level-0);\n",
       "}\n",
       "\n",
       "#sk-container-id-2 div.sk-estimator.fitted {\n",
       "  /* fitted */\n",
       "  background-color: var(--sklearn-color-fitted-level-0);\n",
       "}\n",
       "\n",
       "/* on hover */\n",
       "#sk-container-id-2 div.sk-estimator:hover {\n",
       "  /* unfitted */\n",
       "  background-color: var(--sklearn-color-unfitted-level-2);\n",
       "}\n",
       "\n",
       "#sk-container-id-2 div.sk-estimator.fitted:hover {\n",
       "  /* fitted */\n",
       "  background-color: var(--sklearn-color-fitted-level-2);\n",
       "}\n",
       "\n",
       "/* Specification for estimator info (e.g. \"i\" and \"?\") */\n",
       "\n",
       "/* Common style for \"i\" and \"?\" */\n",
       "\n",
       ".sk-estimator-doc-link,\n",
       "a:link.sk-estimator-doc-link,\n",
       "a:visited.sk-estimator-doc-link {\n",
       "  float: right;\n",
       "  font-size: smaller;\n",
       "  line-height: 1em;\n",
       "  font-family: monospace;\n",
       "  background-color: var(--sklearn-color-background);\n",
       "  border-radius: 1em;\n",
       "  height: 1em;\n",
       "  width: 1em;\n",
       "  text-decoration: none !important;\n",
       "  margin-left: 1ex;\n",
       "  /* unfitted */\n",
       "  border: var(--sklearn-color-unfitted-level-1) 1pt solid;\n",
       "  color: var(--sklearn-color-unfitted-level-1);\n",
       "}\n",
       "\n",
       ".sk-estimator-doc-link.fitted,\n",
       "a:link.sk-estimator-doc-link.fitted,\n",
       "a:visited.sk-estimator-doc-link.fitted {\n",
       "  /* fitted */\n",
       "  border: var(--sklearn-color-fitted-level-1) 1pt solid;\n",
       "  color: var(--sklearn-color-fitted-level-1);\n",
       "}\n",
       "\n",
       "/* On hover */\n",
       "div.sk-estimator:hover .sk-estimator-doc-link:hover,\n",
       ".sk-estimator-doc-link:hover,\n",
       "div.sk-label-container:hover .sk-estimator-doc-link:hover,\n",
       ".sk-estimator-doc-link:hover {\n",
       "  /* unfitted */\n",
       "  background-color: var(--sklearn-color-unfitted-level-3);\n",
       "  color: var(--sklearn-color-background);\n",
       "  text-decoration: none;\n",
       "}\n",
       "\n",
       "div.sk-estimator.fitted:hover .sk-estimator-doc-link.fitted:hover,\n",
       ".sk-estimator-doc-link.fitted:hover,\n",
       "div.sk-label-container:hover .sk-estimator-doc-link.fitted:hover,\n",
       ".sk-estimator-doc-link.fitted:hover {\n",
       "  /* fitted */\n",
       "  background-color: var(--sklearn-color-fitted-level-3);\n",
       "  color: var(--sklearn-color-background);\n",
       "  text-decoration: none;\n",
       "}\n",
       "\n",
       "/* Span, style for the box shown on hovering the info icon */\n",
       ".sk-estimator-doc-link span {\n",
       "  display: none;\n",
       "  z-index: 9999;\n",
       "  position: relative;\n",
       "  font-weight: normal;\n",
       "  right: .2ex;\n",
       "  padding: .5ex;\n",
       "  margin: .5ex;\n",
       "  width: min-content;\n",
       "  min-width: 20ex;\n",
       "  max-width: 50ex;\n",
       "  color: var(--sklearn-color-text);\n",
       "  box-shadow: 2pt 2pt 4pt #999;\n",
       "  /* unfitted */\n",
       "  background: var(--sklearn-color-unfitted-level-0);\n",
       "  border: .5pt solid var(--sklearn-color-unfitted-level-3);\n",
       "}\n",
       "\n",
       ".sk-estimator-doc-link.fitted span {\n",
       "  /* fitted */\n",
       "  background: var(--sklearn-color-fitted-level-0);\n",
       "  border: var(--sklearn-color-fitted-level-3);\n",
       "}\n",
       "\n",
       ".sk-estimator-doc-link:hover span {\n",
       "  display: block;\n",
       "}\n",
       "\n",
       "/* \"?\"-specific style due to the `<a>` HTML tag */\n",
       "\n",
       "#sk-container-id-2 a.estimator_doc_link {\n",
       "  float: right;\n",
       "  font-size: 1rem;\n",
       "  line-height: 1em;\n",
       "  font-family: monospace;\n",
       "  background-color: var(--sklearn-color-background);\n",
       "  border-radius: 1rem;\n",
       "  height: 1rem;\n",
       "  width: 1rem;\n",
       "  text-decoration: none;\n",
       "  /* unfitted */\n",
       "  color: var(--sklearn-color-unfitted-level-1);\n",
       "  border: var(--sklearn-color-unfitted-level-1) 1pt solid;\n",
       "}\n",
       "\n",
       "#sk-container-id-2 a.estimator_doc_link.fitted {\n",
       "  /* fitted */\n",
       "  border: var(--sklearn-color-fitted-level-1) 1pt solid;\n",
       "  color: var(--sklearn-color-fitted-level-1);\n",
       "}\n",
       "\n",
       "/* On hover */\n",
       "#sk-container-id-2 a.estimator_doc_link:hover {\n",
       "  /* unfitted */\n",
       "  background-color: var(--sklearn-color-unfitted-level-3);\n",
       "  color: var(--sklearn-color-background);\n",
       "  text-decoration: none;\n",
       "}\n",
       "\n",
       "#sk-container-id-2 a.estimator_doc_link.fitted:hover {\n",
       "  /* fitted */\n",
       "  background-color: var(--sklearn-color-fitted-level-3);\n",
       "}\n",
       "</style><div id=\"sk-container-id-2\" class=\"sk-top-container\"><div class=\"sk-text-repr-fallback\"><pre>LinearRegression()</pre><b>In a Jupyter environment, please rerun this cell to show the HTML representation or trust the notebook. <br />On GitHub, the HTML representation is unable to render, please try loading this page with nbviewer.org.</b></div><div class=\"sk-container\" hidden><div class=\"sk-item\"><div class=\"sk-estimator fitted sk-toggleable\"><input class=\"sk-toggleable__control sk-hidden--visually\" id=\"sk-estimator-id-2\" type=\"checkbox\" checked><label for=\"sk-estimator-id-2\" class=\"sk-toggleable__label fitted sk-toggleable__label-arrow fitted\">&nbsp;&nbsp;LinearRegression<a class=\"sk-estimator-doc-link fitted\" rel=\"noreferrer\" target=\"_blank\" href=\"https://scikit-learn.org/1.4/modules/generated/sklearn.linear_model.LinearRegression.html\">?<span>Documentation for LinearRegression</span></a><span class=\"sk-estimator-doc-link fitted\">i<span>Fitted</span></span></label><div class=\"sk-toggleable__content fitted\"><pre>LinearRegression()</pre></div> </div></div></div></div>"
      ],
      "text/plain": [
       "LinearRegression()"
      ]
     },
     "execution_count": 52,
     "metadata": {},
     "output_type": "execute_result"
    }
   ],
   "source": [
    "from sklearn.linear_model import LinearRegression\n",
    "lm6 = LinearRegression()\n",
    "lm6.fit(X6_train, y6_train)"
   ]
  },
  {
   "cell_type": "markdown",
   "id": "ff3d2180",
   "metadata": {},
   "source": [
    "## Predicting the Test set results"
   ]
  },
  {
   "cell_type": "code",
   "execution_count": 53,
   "id": "30dc7123",
   "metadata": {},
   "outputs": [],
   "source": [
    "y6_pred = lm6.predict(X6_test)\n",
    "np.set_printoptions(precision=2) # precision displays to 2dp"
   ]
  },
  {
   "cell_type": "markdown",
   "id": "e0780482",
   "metadata": {},
   "source": [
    "## Check the coefficients and $R^2$ value"
   ]
  },
  {
   "cell_type": "code",
   "execution_count": 54,
   "id": "d8be71b6",
   "metadata": {},
   "outputs": [
    {
     "name": "stdout",
     "output_type": "stream",
     "text": [
      "-49.104170904708795\n",
      "[ 1.17 -1.14  1.14  0.47 -1.62  0.46  0.59  0.54]\n",
      "0.5131525541736397\n"
     ]
    }
   ],
   "source": [
    "# beta 0 or intercept value\n",
    "print(lm6.intercept_)\n",
    " \n",
    "# All the coefficients of the independent variables for 'Chem.SemMark', 'Writing.SemMark' , 'Physics.SemMark', 'Academic Group'\n",
    "print(lm6.coef_)\n",
    " \n",
    "# R-squared value of the model\n",
    "print(lm6.score(X6_train, y6_train))"
   ]
  },
  {
   "cell_type": "code",
   "execution_count": 55,
   "id": "b2f0014d",
   "metadata": {},
   "outputs": [
    {
     "name": "stdout",
     "output_type": "stream",
     "text": [
      "R-squared:  0.3541463300584692\n",
      "RMSE:  13.033750440065942\n",
      "MAE:  8.986899821221078\n"
     ]
    }
   ],
   "source": [
    "from sklearn.metrics import r2_score, mean_squared_error, mean_absolute_error\n",
    "\n",
    "# R-squared (higher the better)\n",
    "print(\"R-squared: \", r2_score(y6_test, y6_pred))\n",
    "\n",
    "# Root Mean Square Error (lower error the better)\n",
    "print(\"RMSE: \",np.sqrt(mean_squared_error(y6_test, y6_pred)))\n",
    "\n",
    "# Mean Absoulte Error (lower error the better)\n",
    "print(\"MAE: \", mean_absolute_error(y6_test, y6_pred))"
   ]
  },
  {
   "cell_type": "markdown",
   "id": "234eca46",
   "metadata": {},
   "source": [
    "In response to question 6, it is evident that the model possesses predictive capability. Comparing the R-squared value obtained after the added predictor \"Academic Group\" (0.354) with the R-squared value obtained without it (0.364), we see that this model performs slightly better without the added predictor."
   ]
  }
 ],
 "metadata": {
  "kernelspec": {
   "display_name": "Python 3 (ipykernel)",
   "language": "python",
   "name": "python3"
  },
  "language_info": {
   "codemirror_mode": {
    "name": "ipython",
    "version": 3
   },
   "file_extension": ".py",
   "mimetype": "text/x-python",
   "name": "python",
   "nbconvert_exporter": "python",
   "pygments_lexer": "ipython3",
   "version": "3.11.7"
  }
 },
 "nbformat": 4,
 "nbformat_minor": 5
}
